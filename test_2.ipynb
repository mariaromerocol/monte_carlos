{
 "cells": [
  {
   "cell_type": "code",
   "execution_count": 1,
   "metadata": {},
   "outputs": [],
   "source": [
    "import math\n",
    "import numpy as np\n",
    "import seaborn as sns\n",
    "from time import time\n",
    "import pandas as pd\n",
    "import pymcmcstat\n",
    "import matplotlib.pyplot as plt\n",
    "from pymcmcstat.MCMC import MCMC\n",
    "from pymcmcstat.MCMC import DataStructure,  ModelParameters\n",
    "\n",
    "from ipywidgets import interact\n",
    "import ast"
   ]
  },
  {
   "cell_type": "markdown",
   "metadata": {},
   "source": [
    "### Define model functions"
   ]
  },
  {
   "cell_type": "code",
   "execution_count": 2,
   "metadata": {},
   "outputs": [],
   "source": [
    "def model_magnitud(theta, data):\n",
    "    mag_v_sun = -26.72\n",
    "\n",
    "    phase_angle = data['obs_phase_angle']\n",
    "    range_sat = data['range_sat']\n",
    "    cross_section = theta['cross_section']\n",
    "    albedo = theta['albedo'] \n",
    "    mix_coef = theta['mix_coeff']\n",
    "\n",
    "   # Change degrees to radian\n",
    "    degtorad = lambda x : x*np.pi/180.\n",
    "\n",
    "   # Definition coefficients of equation\n",
    "    coe_1 = 2/(3*np.pi)\n",
    "    coe_2 = 1/(4*np.pi)\n",
    "\n",
    "    phase_angle_rad = degtorad(phase_angle)\t\n",
    "\n",
    "    part1 = (coe_1 *((np.pi - phase_angle_rad)*np.cos(phase_angle_rad) - np.sin(phase_angle_rad))) - coe_2\n",
    "\t\n",
    "    mag = mag_v_sun - 2.5 * np.log10(cross_section * albedo * (mix_coef * part1) + coe_2) + 5*np.log10(range_sat)\n",
    "    return mag.to_numpy()"
   ]
  },
  {
   "cell_type": "markdown",
   "metadata": {},
   "source": [
    "### Define sum-of-square function"
   ]
  },
  {
   "cell_type": "code",
   "execution_count": 3,
   "metadata": {},
   "outputs": [],
   "source": [
    "def sum_squares(theta, data):\n",
    "\n",
    "    rest = data[3].to_numpy() - model_magnitud(theta, data)\n",
    "    print(rest)\n",
    "    return rest #(rest ** 2).sum(axis=0)\n",
    "\n",
    "def residual_calc(theta, data_x, data_y):\n",
    "    residual = data_y - model_magnitud(theta, data_x)\n",
    "    return residual"
   ]
  },
  {
   "cell_type": "markdown",
   "metadata": {},
   "source": [
    "### Read Data and create new dataframe"
   ]
  },
  {
   "cell_type": "code",
   "execution_count": 4,
   "metadata": {},
   "outputs": [],
   "source": [
    "\n",
    "path = '/home/kero/Documents/PhD/Re-analyse/result_analyse.csv'\n",
    "data_sat = pd.read_csv(path)\n",
    "# data_sat.columns\n",
    "\n",
    "data_in = pd.DataFrame()\n",
    "data_in['obs_phase_angle'] = data_sat['obs_phase_angle']\n",
    "data_in['range_sat'] = data_sat['range_sat']\n",
    "data_in['mag_observation'] = data_sat['mag_observation']"
   ]
  },
  {
   "cell_type": "markdown",
   "metadata": {},
   "source": [
    "### Setup Model Parameters\n",
    "\n",
    "theta0: Initial parameter values\n",
    "bounds: Min/Max\n",
    "names: Reference names (keys)\n",
    "longnames: LaTeX style names for plotting"
   ]
  },
  {
   "cell_type": "code",
   "execution_count": 5,
   "metadata": {},
   "outputs": [],
   "source": [
    "theta0 = dict(\n",
    "        cross_section=0.5,\n",
    "        albedo=0.,\n",
    "        mix_coef=0.5\n",
    "        )\n",
    "theta0vec = list(theta0.values())\n",
    "bounds = dict(\n",
    "        cross_section=[0.5, 1.3],\n",
    "        albedo=[0., 1.],\n",
    "        mix_coef=[0., 1.]\n",
    "        )\n",
    "names = ['cross_section', 'albedo', 'mix_coef']"
   ]
  },
  {
   "cell_type": "markdown",
   "metadata": {},
   "source": [
    "### Define data for pymcmcstat.MCMC"
   ]
  },
  {
   "cell_type": "code",
   "execution_count": 6,
   "metadata": {},
   "outputs": [],
   "source": [
    "data = DataStructure()\n",
    "data.add_data_set(x=data_in, y=data_in['mag_observation'])"
   ]
  },
  {
   "cell_type": "markdown",
   "metadata": {},
   "source": [
    "### Specify Parameters to Sample\n",
    "sample: Flag to include parameter in MCMC sampling"
   ]
  },
  {
   "cell_type": "code",
   "execution_count": null,
   "metadata": {},
   "outputs": [],
   "source": [
    "def g(cross_section, albedo, mix_coef):\n",
    "    return dict(\n",
    "        cross_section=cross_section,\n",
    "        albedo=albedo,\n",
    "        mix_coef=mix_coef)\n",
    "\n",
    "select_sample = interact(g, cross_section=True, albedo=True, mix_coef=True)\n",
    "sample_output = select_sample.widget.out\n",
    "print"
   ]
  },
  {
   "cell_type": "markdown",
   "metadata": {},
   "source": [
    "### Setup & Run MCMC Simulation\n",
    "\n",
    "##### Setup:\n",
    "\n",
    "- Add data\n",
    "- Add model parameters\n",
    "- Define model settings include sum-of-squares function\n",
    "- Define simulation options\n",
    "\n",
    "Run and display chain statistics. We remove the first part of chain as the burnin period."
   ]
  },
  {
   "cell_type": "markdown",
   "metadata": {},
   "source": [
    "#### - Add data"
   ]
  },
  {
   "cell_type": "code",
   "execution_count": 7,
   "metadata": {},
   "outputs": [],
   "source": [
    "# Initialize MCMC object\n",
    "mcstat = MCMC()\n",
    "# Add data\n",
    "mcstat.data = data"
   ]
  },
  {
   "cell_type": "markdown",
   "metadata": {},
   "source": [
    "#### - Add model parameters"
   ]
  },
  {
   "cell_type": "code",
   "execution_count": 9,
   "metadata": {},
   "outputs": [],
   "source": [
    "def ssfun(t, data):\n",
    "    # Unpack data structure\n",
    "    stress = data.ydata[0]\n",
    "    # Evaluate model\n",
    "    stress_model = model_magnitud(t, data)\n",
    "    # Calculate sum-of-squares error\n",
    "    res = stress.reshape(stress_model.shape) - stress_model\n",
    "    ss = np.dot(res.T, res)\n",
    "    return ss"
   ]
  },
  {
   "cell_type": "code",
   "execution_count": 10,
   "metadata": {},
   "outputs": [
    {
     "name": "stdout",
     "output_type": "stream",
     "text": [
      "cross_section\n",
      "albedo\n",
      "mix_coef\n"
     ]
    }
   ],
   "source": [
    "# define model parameters\n",
    "# sample = ast.literal_eval(sample_output.outputs[0]['data']['text/plain'])\n",
    "for ii, name in enumerate(names):\n",
    "    print(names[ii])\n",
    "    mcstat.parameters.add_model_parameter(\n",
    "            name=names[ii],\n",
    "            theta0=theta0[name],\n",
    "            minimum=bounds[name][0],\n",
    "            maximum=bounds[name][1],\n",
    "            sample=True)\n",
    "mcstat.model_settings.define_model_settings(sos_function = ssfun, model_function=model_magnitud)"
   ]
  },
  {
   "cell_type": "code",
   "execution_count": 16,
   "metadata": {},
   "outputs": [
    {
     "name": "stdout",
     "output_type": "stream",
     "text": [
      "model settings:\n",
      "\tsos_function = <function ssfun at 0x7f38d3ba41f0>\n",
      "\tmodel_function = <function model_magnitud at 0x7f38d674c280>\n",
      "\tsigma2 = None\n",
      "\tN = None\n",
      "\tN0 = None\n",
      "\tS20 = [nan]\n"
     ]
    },
    {
     "ename": "AttributeError",
     "evalue": "'ModelSettings' object has no attribute 'nsos'",
     "output_type": "error",
     "traceback": [
      "\u001b[0;31m---------------------------------------------------------------------------\u001b[0m",
      "\u001b[0;31mAttributeError\u001b[0m                            Traceback (most recent call last)",
      "\u001b[1;32m/home/kero/Documents/PhD/monte_carlo/monte_carlos/test_2.ipynb Cell 20\u001b[0m in \u001b[0;36m<cell line: 1>\u001b[0;34m()\u001b[0m\n\u001b[0;32m----> <a href='vscode-notebook-cell:/home/kero/Documents/PhD/monte_carlo/monte_carlos/test_2.ipynb#ch0000030?line=0'>1</a>\u001b[0m mcstat\u001b[39m.\u001b[39;49mmodel_settings\u001b[39m.\u001b[39;49mdisplay_model_settings(print_these\u001b[39m=\u001b[39;49m\u001b[39mNone\u001b[39;49;00m)\n",
      "File \u001b[0;32m~/.local/lib/python3.10/site-packages/pymcmcstat/settings/ModelSettings.py:212\u001b[0m, in \u001b[0;36mModelSettings.display_model_settings\u001b[0;34m(self, print_these)\u001b[0m\n\u001b[1;32m    210\u001b[0m \u001b[39mprint\u001b[39m(\u001b[39m'\u001b[39m\u001b[39mmodel settings:\u001b[39m\u001b[39m'\u001b[39m)\n\u001b[1;32m    211\u001b[0m \u001b[39mfor\u001b[39;00m ptii \u001b[39min\u001b[39;00m print_these:\n\u001b[0;32m--> 212\u001b[0m     \u001b[39mprint\u001b[39m(\u001b[39m'\u001b[39m\u001b[39m\\t\u001b[39;00m\u001b[39m{}\u001b[39;00m\u001b[39m = \u001b[39m\u001b[39m{}\u001b[39;00m\u001b[39m'\u001b[39m\u001b[39m.\u001b[39mformat(ptii, \u001b[39mgetattr\u001b[39;49m(\u001b[39mself\u001b[39;49m, ptii)))\n\u001b[1;32m    213\u001b[0m \u001b[39mreturn\u001b[39;00m print_these\n",
      "\u001b[0;31mAttributeError\u001b[0m: 'ModelSettings' object has no attribute 'nsos'"
     ]
    }
   ],
   "source": [
    "mcstat.model_settings.display_model_settings(print_these=None)"
   ]
  },
  {
   "cell_type": "markdown",
   "metadata": {},
   "source": [
    "#### - Define model settings include sum-of-squares function"
   ]
  },
  {
   "cell_type": "code",
   "execution_count": null,
   "metadata": {},
   "outputs": [],
   "source": [
    "mcstat.simulation_options.define_simulation_options(\n",
    "    nsimu=5.0e3,\n",
    "    updatesigma=True)"
   ]
  },
  {
   "cell_type": "markdown",
   "metadata": {},
   "source": [
    "#### - Run Simulation"
   ]
  },
  {
   "cell_type": "code",
   "execution_count": null,
   "metadata": {},
   "outputs": [],
   "source": [
    "mcstat.run_simulation()"
   ]
  },
  {
   "cell_type": "markdown",
   "metadata": {},
   "source": [
    "#### - View results"
   ]
  },
  {
   "cell_type": "code",
   "execution_count": null,
   "metadata": {},
   "outputs": [],
   "source": [
    "results = mcstat.simulation_results.results\n",
    "plotnames = results['names']\n",
    "fullchain = results['chain']\n",
    "fulls2chain = results['s2chain']\n",
    "nsimu = results['nsimu']\n",
    "burnin = int(nsimu/2)\n",
    "chain = fullchain[burnin:, :]\n",
    "s2chain = fulls2chain[burnin:, :]\n",
    "\n",
    "mcstat.chainstats(chain, results)"
   ]
  }
 ],
 "metadata": {
  "kernelspec": {
   "display_name": "Python 3.10.4 64-bit",
   "language": "python",
   "name": "python3"
  },
  "language_info": {
   "codemirror_mode": {
    "name": "ipython",
    "version": 3
   },
   "file_extension": ".py",
   "mimetype": "text/x-python",
   "name": "python",
   "nbconvert_exporter": "python",
   "pygments_lexer": "ipython3",
   "version": "3.10.4"
  },
  "orig_nbformat": 4,
  "vscode": {
   "interpreter": {
    "hash": "916dbcbb3f70747c44a77c7bcd40155683ae19c65e1c03b4aa3499c5328201f1"
   }
  }
 },
 "nbformat": 4,
 "nbformat_minor": 2
}
