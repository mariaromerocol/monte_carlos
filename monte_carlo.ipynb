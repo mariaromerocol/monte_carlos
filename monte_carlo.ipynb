{
 "cells": [
  {
   "cell_type": "code",
   "execution_count": 1,
   "metadata": {},
   "outputs": [],
   "source": [
    "import math\n",
    "import numpy as np\n",
    "import seaborn as sns\n",
    "from time import time\n",
    "import pandas as pd\n",
    "import pymcmcstat\n",
    "import matplotlib.pyplot as plt"
   ]
  },
  {
   "cell_type": "code",
   "execution_count": 2,
   "metadata": {},
   "outputs": [],
   "source": [
    "def model_magnitud(theta, data):\n",
    "    mag_v_sun = -26.72\n",
    "\n",
    "    phase_angle = data['solar_phase_angle']\n",
    "    range_sat = data['range_sat']\n",
    "    cross_section = theta['cross_section']\n",
    "    albedo = theta['albedo'] \n",
    "    mix_coef = theta['mix_coef']\n",
    "\n",
    "   # Change degrees to radian\n",
    "    degtorad = lambda x : x*np.pi/180.\n",
    "\n",
    "   # Definition coefficients of equation\n",
    "    coe_1 = 2/(3*np.pi)\n",
    "    coe_2 = 1/(4*np.pi)\n",
    "\n",
    "    phase_angle_rad = degtorad(phase_angle)\t\n",
    "\n",
    "   \n",
    "    part1 = (coe_1 *((np.pi - phase_angle_rad)*np.cos(phase_angle_rad) - np.sin(phase_angle_rad))) - coe_2\n",
    "   \n",
    "    mag = mag_v_sun - 2.5 * np.log10(cross_section * albedo * (mix_coef * part1) + coe_2) + 5*np.log10(range_sat)\n",
    "    return mag"
   ]
  },
  {
   "cell_type": "code",
   "execution_count": null,
   "metadata": {},
   "outputs": [],
   "source": [
    " def residual_calc(theta, data_x, data_y):\n",
    "    residual = data_y - model_magnitud(theta, data_x)\n",
    "    return residual"
   ]
  },
  {
   "cell_type": "markdown",
   "metadata": {},
   "source": [
    "### Read Data and create new dataframe"
   ]
  },
  {
   "cell_type": "code",
   "execution_count": 15,
   "metadata": {},
   "outputs": [],
   "source": [
    "path = '/home/kero/Documents/PhD/Re-analyse/result_analyse.csv'\n",
    "# path = '/home/kero/Documents/PhD/re-analyse/test.csv'\n",
    "data_sat = pd.read_csv(path)\n",
    "\n",
    "data_in = pd.DataFrame()\n",
    "data_in['solar_phase_angle'] = data_sat['obs_phase_angle']\n",
    "data_in['range_sat'] = data_sat['range_sat']\n",
    "data_in['mag_observation'] = data_sat['mag_observation']\n",
    "# data_in['solar_phase_angle'] = data_sat['SunPhaseAng']\n",
    "# data_in['range_sat'] = data_sat['ObsTrailLength']\n",
    "# data_in['mag_observation'] = data_sat['ObsMag']\n",
    "data_in['e_mag'] = data_sat['mag_observation_e']\n",
    "n = data_in.shape[0]\n"
   ]
  },
  {
   "cell_type": "code",
   "execution_count": 46,
   "metadata": {},
   "outputs": [],
   "source": [
    "n = 10000\n",
    "mean = 0.8\n",
    "std_dev = 0.35\n",
    "num_reps = n\n",
    "\n",
    "cross_section_random = np.random.normal(mean, std_dev, num_reps).round(2)"
   ]
  },
  {
   "cell_type": "code",
   "execution_count": 47,
   "metadata": {},
   "outputs": [],
   "source": [
    "mean = 0.55\n",
    "std_dev = 0.2\n",
    "num_reps = n\n",
    "\n",
    "albedo_random = np.random.normal(mean, std_dev, num_reps).round(2)"
   ]
  },
  {
   "cell_type": "code",
   "execution_count": 48,
   "metadata": {},
   "outputs": [],
   "source": [
    "mean = 0.75\n",
    "std_dev = 0.12\n",
    "num_reps = n\n",
    "\n",
    "\n",
    "mix_coef_random = np.random.normal(mean, std_dev, num_reps).round(2)"
   ]
  },
  {
   "cell_type": "code",
   "execution_count": 7,
   "metadata": {},
   "outputs": [],
   "source": [
    "def sum_squares(theta, data):\n",
    "\n",
    "    rest = (data['mag_observation'] + data['e_mag']) + model_magnitud(theta, data)\n",
    "    residual = (rest ** 2).sum(axis=0)/(rest.shape[0] - theta.shape[1])\n",
    "    estimator = [residual, rest]\n",
    "    \n",
    "    return estimator"
   ]
  },
  {
   "cell_type": "markdown",
   "metadata": {},
   "source": [
    "### Test with 3 for loops"
   ]
  },
  {
   "cell_type": "code",
   "execution_count": null,
   "metadata": {},
   "outputs": [],
   "source": [
    "p_value = 0.83\n",
    "num_simulations = 2000\n",
    "\n",
    "good_p_value = []\n",
    "mixing_coeffient_est = []\n",
    "albedo_est = []\n",
    "cross_section_est = []\n",
    "\n",
    "for idx, mix_coef in enumerate(mix_coef_random):\n",
    "    # Choose random inputs for the sales targets and percent to target\n",
    "    # mix_coef = np.random.choice(mix_coef_random)\n",
    "    print(mix_coef)\n",
    "    for j in range(num_simulations):\n",
    "        albedo = np.random.choice(albedo_random)\n",
    "        for k in range(num_simulations):\n",
    "            cross_section = np.random.choice(cross_section_random)\n",
    "            # print(mix_coef, albedo, cross_section)\n",
    "\n",
    "\n",
    "            df = pd.DataFrame(index=range(data_in.shape[0]), data={'mix_coef': mix_coef,\n",
    "                                                            'albedo': albedo,\n",
    "                                                            'cross_section' : cross_section})\n",
    "\n",
    "            model_value = model_magnitud(df, data_in)\n",
    "            \n",
    "            estimador = sum_squares(df, data_in)\n",
    "            # print(estimador[0])\n",
    "\n",
    "            if estimador[0] < p_value:\n",
    "                p_value = estimador[0]\n",
    "                good_p_value.append(p_value)\n",
    "                mixing_coeffient_est.append(mix_coef)\n",
    "                albedo_est.append(albedo)\n",
    "                cross_section_est.append(cross_section)\n",
    "\n",
    "                print(estimador[0])\n",
    "                print('mixing_coeffient= ', mix_coef)\n",
    "                print('albedo= ', albedo)\n",
    "                print('cross_section= ', cross_section)\n",
    "                print('model_value= ', model_value[1])\n",
    "                print('mag_obs= ', data_in.mag_observation[1])\n",
    "                print('============================================')\n",
    "    \n",
    "result_fit = pd.DataFrame(index=range(len(mixing_coeffient_est)), data={\n",
    "                                                    'p_value': good_p_value,\n",
    "                                                    'mixing_coeffient_est': mixing_coeffient_est,\n",
    "                                                    'albedo_est': albedo_est,\n",
    "                                                    'cross_section_est' : cross_section_est})"
   ]
  },
  {
   "cell_type": "code",
   "execution_count": 21,
   "metadata": {},
   "outputs": [],
   "source": [
    "mix_coef_random = [0.5, 0.75, 1.]"
   ]
  },
  {
   "cell_type": "markdown",
   "metadata": {},
   "source": [
    "### Function build Markov Chains\n"
   ]
  },
  {
   "cell_type": "code",
   "execution_count": null,
   "metadata": {},
   "outputs": [],
   "source": [
    "\n",
    "\n",
    "init_mix_coef = 0.75\n",
    "mix_coef_std = 0.12\n",
    "\n",
    "\n",
    "\n",
    "mix_coef_random = np.random.normal(mean, std_dev, num_reps).round(2)"
   ]
  },
  {
   "cell_type": "code",
   "execution_count": 49,
   "metadata": {},
   "outputs": [
    {
     "name": "stdout",
     "output_type": "stream",
     "text": [
      "0.8284165072145211\n",
      "mixing_coeffient=  0.88\n",
      "albedo=  0.46\n",
      "cross_section=  -0.03\n",
      "model_value=  -11.468617595899508\n",
      "mag_obs=  11.13610279672226\n",
      "============================================\n",
      "0.8186849147980393\n",
      "mixing_coeffient=  1.09\n",
      "albedo=  0.79\n",
      "cross_section=  0.0\n",
      "model_value=  -11.503791379454023\n",
      "mag_obs=  11.13610279672226\n",
      "============================================\n",
      "0.8121264293384877\n",
      "mixing_coeffient=  0.77\n",
      "albedo=  0.23\n",
      "cross_section=  0.09\n",
      "model_value=  -11.548292606794012\n",
      "mag_obs=  11.13610279672226\n",
      "============================================\n",
      "0.8111437868128571\n",
      "mixing_coeffient=  0.45\n",
      "albedo=  0.54\n",
      "cross_section=  0.1\n",
      "model_value=  -11.570926778026463\n",
      "mag_obs=  11.13610279672226\n",
      "============================================\n"
     ]
    },
    {
     "name": "stderr",
     "output_type": "stream",
     "text": [
      "/home/kero/.local/lib/python3.10/site-packages/pandas/core/arraylike.py:397: RuntimeWarning: invalid value encountered in log10\n",
      "  result = getattr(ufunc, method)(*inputs, **kwargs)\n",
      "/home/kero/.local/lib/python3.10/site-packages/pandas/core/arraylike.py:397: RuntimeWarning: invalid value encountered in log10\n",
      "  result = getattr(ufunc, method)(*inputs, **kwargs)\n"
     ]
    },
    {
     "name": "stdout",
     "output_type": "stream",
     "text": [
      "0.8111396302451307\n",
      "mixing_coeffient=  0.6\n",
      "albedo=  0.06\n",
      "cross_section=  0.68\n",
      "model_value=  -11.571408907275389\n",
      "mag_obs=  11.13610279672226\n",
      "============================================\n",
      "0.8111319229253635\n",
      "mixing_coeffient=  0.64\n",
      "albedo=  0.58\n",
      "cross_section=  0.07\n",
      "model_value=  -11.575429018951821\n",
      "mag_obs=  11.13610279672226\n",
      "============================================\n",
      "0.811129723959499\n",
      "mixing_coeffient=  0.97\n",
      "albedo=  0.05\n",
      "cross_section=  0.53\n",
      "model_value=  -11.574684390497746\n",
      "mag_obs=  11.13610279672226\n",
      "============================================\n",
      "0.8111295855234407\n",
      "mixing_coeffient=  0.65\n",
      "albedo=  0.79\n",
      "cross_section=  0.05\n",
      "model_value=  -11.574604292505002\n",
      "mag_obs=  11.13610279672226\n",
      "============================================\n"
     ]
    },
    {
     "name": "stderr",
     "output_type": "stream",
     "text": [
      "/home/kero/.local/lib/python3.10/site-packages/pandas/core/arraylike.py:397: RuntimeWarning: invalid value encountered in log10\n",
      "  result = getattr(ufunc, method)(*inputs, **kwargs)\n",
      "/home/kero/.local/lib/python3.10/site-packages/pandas/core/arraylike.py:397: RuntimeWarning: invalid value encountered in log10\n",
      "  result = getattr(ufunc, method)(*inputs, **kwargs)\n"
     ]
    },
    {
     "name": "stdout",
     "output_type": "stream",
     "text": [
      "0.8111294922925605\n",
      "mixing_coeffient=  0.53\n",
      "albedo=  0.22\n",
      "cross_section=  0.22\n",
      "model_value=  -11.574542880041895\n",
      "mag_obs=  11.13610279672226\n",
      "============================================\n",
      "0.8111291691435003\n",
      "mixing_coeffient=  0.81\n",
      "albedo=  0.45\n",
      "cross_section=  0.07\n",
      "model_value=  -11.574177003384138\n",
      "mag_obs=  11.13610279672226\n",
      "============================================\n"
     ]
    }
   ],
   "source": [
    "p_value = 0.83\n",
    "num_simulations = 10000\n",
    "\n",
    "good_p_value = []\n",
    "mixing_coeffient_est = []\n",
    "albedo_est = []\n",
    "cross_section_est = []\n",
    "\n",
    "for i in range(num_simulations):\n",
    "    # Choose random inputs for the sales targets and percent to target\n",
    "    mix_coef = np.random.choice(mix_coef_random)\n",
    "    albedo = np.random.choice(albedo_random)\n",
    "    cross_section = np.random.choice(cross_section_random)\n",
    "    # print(mix_coef, albedo, cross_section)\n",
    "\n",
    "\n",
    "    df = pd.DataFrame(data={'mix_coef': mix_coef,\n",
    "                            'albedo': albedo,\n",
    "                            'cross_section' : cross_section},\n",
    "                            index=range(data_in.shape[0]))\n",
    "\n",
    "    model_value = model_magnitud(df, data_in)\n",
    "            \n",
    "    estimador = sum_squares(df, data_in)\n",
    "    # print(estimador[0])\n",
    "\n",
    "    if estimador[0] < p_value:\n",
    "        p_value = estimador[0]\n",
    "        good_p_value.append(p_value)\n",
    "        mixing_coeffient_est.append(mix_coef)\n",
    "        albedo_est.append(albedo)\n",
    "        cross_section_est.append(cross_section)\n",
    "\n",
    "        print(estimador[0])\n",
    "        print('mixing_coeffient= ', mix_coef)\n",
    "        print('albedo= ', albedo)\n",
    "        print('cross_section= ', cross_section)\n",
    "        print('model_value= ', model_value[1])\n",
    "        print('mag_obs= ', data_in.mag_observation[1])\n",
    "        print('============================================')\n",
    "    \n",
    "result_fit = pd.DataFrame(index=range(len(mixing_coeffient_est)), data={\n",
    "                                                    'p_value': good_p_value,\n",
    "                                                    'mixing_coeffient_est': mixing_coeffient_est,\n",
    "                                                    'albedo_est': albedo_est,\n",
    "                                                    'cross_section_est' : cross_section_est})\n",
    "\n"
   ]
  },
  {
   "cell_type": "code",
   "execution_count": null,
   "metadata": {},
   "outputs": [],
   "source": [
    "0.35946426952055893\n",
    "mixing_coeffient=  0.76\n",
    "albedo=  0.42\n",
    "cross_section=  0.6\n",
    "model_value=  -11.945990905537963\n",
    "mag_obs=  11.13610279672226\n",
    "\n",
    "0.8111746154031804\n",
    "mixing_coeffient=  0.5\n",
    "albedo=  0.19\n",
    "cross_section=  0.29\n",
    "model_value=  -11.579599095073378\n",
    "mag_obs=  11.13610279672226\n",
    "============================================"
   ]
  },
  {
   "cell_type": "code",
   "execution_count": null,
   "metadata": {},
   "outputs": [],
   "source": []
  },
  {
   "cell_type": "code",
   "execution_count": 37,
   "metadata": {},
   "outputs": [],
   "source": [
    "type(model_value)\n",
    "frame = {'model_value': model_value}\n",
    "model_value_est = pd.DataFrame(frame)\n",
    "\n"
   ]
  },
  {
   "cell_type": "code",
   "execution_count": 38,
   "metadata": {},
   "outputs": [],
   "source": [
    "result1 = data_in.mag_observation + model_value_est.model_value"
   ]
  },
  {
   "cell_type": "code",
   "execution_count": 39,
   "metadata": {},
   "outputs": [
    {
     "data": {
      "text/plain": [
       "0      3.362974\n",
       "1     -0.904130\n",
       "2     -1.022973\n",
       "3      0.287429\n",
       "4      0.229151\n",
       "         ...   \n",
       "139   -2.845747\n",
       "140   -2.951591\n",
       "141   -3.290152\n",
       "142   -3.141615\n",
       "143   -2.633386\n",
       "Length: 144, dtype: float64"
      ]
     },
     "execution_count": 39,
     "metadata": {},
     "output_type": "execute_result"
    }
   ],
   "source": [
    "result1"
   ]
  },
  {
   "cell_type": "code",
   "execution_count": 40,
   "metadata": {},
   "outputs": [],
   "source": [
    "data_plot = pd.concat([data_in, model_value_est*(-1)], axis=1, join='inner')\n",
    "diff = data_in.mag_observation + model_value_est.model_value\n",
    "data_plot['diff_mag'] = diff"
   ]
  },
  {
   "cell_type": "code",
   "execution_count": 41,
   "metadata": {},
   "outputs": [
    {
     "data": {
      "text/html": [
       "<div>\n",
       "<style scoped>\n",
       "    .dataframe tbody tr th:only-of-type {\n",
       "        vertical-align: middle;\n",
       "    }\n",
       "\n",
       "    .dataframe tbody tr th {\n",
       "        vertical-align: top;\n",
       "    }\n",
       "\n",
       "    .dataframe thead th {\n",
       "        text-align: right;\n",
       "    }\n",
       "</style>\n",
       "<table border=\"1\" class=\"dataframe\">\n",
       "  <thead>\n",
       "    <tr style=\"text-align: right;\">\n",
       "      <th></th>\n",
       "      <th>solar_phase_angle</th>\n",
       "      <th>range_sat</th>\n",
       "      <th>mag_observation</th>\n",
       "      <th>e_mag</th>\n",
       "      <th>model_value</th>\n",
       "      <th>diff_mag</th>\n",
       "    </tr>\n",
       "  </thead>\n",
       "  <tbody>\n",
       "    <tr>\n",
       "      <th>0</th>\n",
       "      <td>32.245458</td>\n",
       "      <td>278.637971</td>\n",
       "      <td>15.763537</td>\n",
       "      <td>1.174024</td>\n",
       "      <td>12.400564</td>\n",
       "      <td>3.362974</td>\n",
       "    </tr>\n",
       "    <tr>\n",
       "      <th>1</th>\n",
       "      <td>37.593041</td>\n",
       "      <td>311.628229</td>\n",
       "      <td>11.136103</td>\n",
       "      <td>0.082663</td>\n",
       "      <td>12.040233</td>\n",
       "      <td>-0.904130</td>\n",
       "    </tr>\n",
       "    <tr>\n",
       "      <th>2</th>\n",
       "      <td>29.029426</td>\n",
       "      <td>353.667454</td>\n",
       "      <td>10.923933</td>\n",
       "      <td>0.086001</td>\n",
       "      <td>11.946907</td>\n",
       "      <td>-1.022973</td>\n",
       "    </tr>\n",
       "    <tr>\n",
       "      <th>3</th>\n",
       "      <td>23.473494</td>\n",
       "      <td>920.908169</td>\n",
       "      <td>10.256544</td>\n",
       "      <td>0.056645</td>\n",
       "      <td>9.969115</td>\n",
       "      <td>0.287429</td>\n",
       "    </tr>\n",
       "    <tr>\n",
       "      <th>4</th>\n",
       "      <td>37.262504</td>\n",
       "      <td>1243.445283</td>\n",
       "      <td>9.272100</td>\n",
       "      <td>0.094529</td>\n",
       "      <td>9.042948</td>\n",
       "      <td>0.229151</td>\n",
       "    </tr>\n",
       "    <tr>\n",
       "      <th>...</th>\n",
       "      <td>...</td>\n",
       "      <td>...</td>\n",
       "      <td>...</td>\n",
       "      <td>...</td>\n",
       "      <td>...</td>\n",
       "      <td>...</td>\n",
       "    </tr>\n",
       "    <tr>\n",
       "      <th>139</th>\n",
       "      <td>15.112193</td>\n",
       "      <td>2021.599779</td>\n",
       "      <td>5.544144</td>\n",
       "      <td>0.037216</td>\n",
       "      <td>8.389891</td>\n",
       "      <td>-2.845747</td>\n",
       "    </tr>\n",
       "    <tr>\n",
       "      <th>140</th>\n",
       "      <td>18.881421</td>\n",
       "      <td>1922.613217</td>\n",
       "      <td>5.492766</td>\n",
       "      <td>0.043305</td>\n",
       "      <td>8.444357</td>\n",
       "      <td>-2.951591</td>\n",
       "    </tr>\n",
       "    <tr>\n",
       "      <th>141</th>\n",
       "      <td>12.155282</td>\n",
       "      <td>1732.383001</td>\n",
       "      <td>5.474251</td>\n",
       "      <td>0.042369</td>\n",
       "      <td>8.764404</td>\n",
       "      <td>-3.290152</td>\n",
       "    </tr>\n",
       "    <tr>\n",
       "      <th>142</th>\n",
       "      <td>22.562450</td>\n",
       "      <td>1834.766768</td>\n",
       "      <td>5.345930</td>\n",
       "      <td>0.032044</td>\n",
       "      <td>8.487544</td>\n",
       "      <td>-3.141615</td>\n",
       "    </tr>\n",
       "    <tr>\n",
       "      <th>143</th>\n",
       "      <td>16.516837</td>\n",
       "      <td>2428.075049</td>\n",
       "      <td>5.338942</td>\n",
       "      <td>0.036075</td>\n",
       "      <td>7.972329</td>\n",
       "      <td>-2.633386</td>\n",
       "    </tr>\n",
       "  </tbody>\n",
       "</table>\n",
       "<p>144 rows × 6 columns</p>\n",
       "</div>"
      ],
      "text/plain": [
       "     solar_phase_angle    range_sat  mag_observation     e_mag  model_value  \\\n",
       "0            32.245458   278.637971        15.763537  1.174024    12.400564   \n",
       "1            37.593041   311.628229        11.136103  0.082663    12.040233   \n",
       "2            29.029426   353.667454        10.923933  0.086001    11.946907   \n",
       "3            23.473494   920.908169        10.256544  0.056645     9.969115   \n",
       "4            37.262504  1243.445283         9.272100  0.094529     9.042948   \n",
       "..                 ...          ...              ...       ...          ...   \n",
       "139          15.112193  2021.599779         5.544144  0.037216     8.389891   \n",
       "140          18.881421  1922.613217         5.492766  0.043305     8.444357   \n",
       "141          12.155282  1732.383001         5.474251  0.042369     8.764404   \n",
       "142          22.562450  1834.766768         5.345930  0.032044     8.487544   \n",
       "143          16.516837  2428.075049         5.338942  0.036075     7.972329   \n",
       "\n",
       "     diff_mag  \n",
       "0    3.362974  \n",
       "1   -0.904130  \n",
       "2   -1.022973  \n",
       "3    0.287429  \n",
       "4    0.229151  \n",
       "..        ...  \n",
       "139 -2.845747  \n",
       "140 -2.951591  \n",
       "141 -3.290152  \n",
       "142 -3.141615  \n",
       "143 -2.633386  \n",
       "\n",
       "[144 rows x 6 columns]"
      ]
     },
     "execution_count": 41,
     "metadata": {},
     "output_type": "execute_result"
    }
   ],
   "source": [
    "data_plot"
   ]
  },
  {
   "cell_type": "code",
   "execution_count": 42,
   "metadata": {},
   "outputs": [
    {
     "data": {
      "text/plain": [
       "<AxesSubplot:xlabel='solar_phase_angle', ylabel='mag_observation'>"
      ]
     },
     "execution_count": 42,
     "metadata": {},
     "output_type": "execute_result"
    },
    {
     "data": {
      "image/png": "[encoded data removed]",
      "text/plain": [
       "<Figure size 432x288 with 1 Axes>"
      ]
     },
     "metadata": {
      "needs_background": "light"
     },
     "output_type": "display_data"
    }
   ],
   "source": [
    "sns.scatterplot(data=data_plot, x=\"solar_phase_angle\", y=\"mag_observation\", hue=\"e_mag\")\n",
    "sns.scatterplot(data=data_plot, x=\"solar_phase_angle\", y=\"model_value\", markers='s')"
   ]
  },
  {
   "cell_type": "code",
   "execution_count": 43,
   "metadata": {},
   "outputs": [
    {
     "data": {
      "text/plain": [
       "<AxesSubplot:xlabel='solar_phase_angle', ylabel='mag_observation'>"
      ]
     },
     "execution_count": 43,
     "metadata": {},
     "output_type": "execute_result"
    },
    {
     "data": {
      "image/png": "[encoded data removed]",
      "text/plain": [
       "<Figure size 432x288 with 1 Axes>"
      ]
     },
     "metadata": {
      "needs_background": "light"
     },
     "output_type": "display_data"
    }
   ],
   "source": [
    "sns.scatterplot(data=data_plot, x=\"solar_phase_angle\", y=\"mag_observation\", hue=\"diff_mag\")\n",
    "sns.scatterplot(data=data_plot, x=\"solar_phase_angle\", y=\"model_value\", markers='s')"
   ]
  },
  {
   "cell_type": "code",
   "execution_count": 44,
   "metadata": {},
   "outputs": [
    {
     "data": {
      "text/html": [
       "<div>\n",
       "<style scoped>\n",
       "    .dataframe tbody tr th:only-of-type {\n",
       "        vertical-align: middle;\n",
       "    }\n",
       "\n",
       "    .dataframe tbody tr th {\n",
       "        vertical-align: top;\n",
       "    }\n",
       "\n",
       "    .dataframe thead th {\n",
       "        text-align: right;\n",
       "    }\n",
       "</style>\n",
       "<table border=\"1\" class=\"dataframe\">\n",
       "  <thead>\n",
       "    <tr style=\"text-align: right;\">\n",
       "      <th></th>\n",
       "      <th>p_value</th>\n",
       "      <th>mixing_coeffient_est</th>\n",
       "      <th>albedo_est</th>\n",
       "      <th>cross_section_est</th>\n",
       "    </tr>\n",
       "  </thead>\n",
       "  <tbody>\n",
       "    <tr>\n",
       "      <th>0</th>\n",
       "      <td>0.828280</td>\n",
       "      <td>0.98</td>\n",
       "      <td>0.25</td>\n",
       "      <td>0.28</td>\n",
       "    </tr>\n",
       "    <tr>\n",
       "      <th>1</th>\n",
       "      <td>0.814494</td>\n",
       "      <td>0.76</td>\n",
       "      <td>0.36</td>\n",
       "      <td>0.03</td>\n",
       "    </tr>\n",
       "    <tr>\n",
       "      <th>2</th>\n",
       "      <td>0.812597</td>\n",
       "      <td>0.75</td>\n",
       "      <td>0.02</td>\n",
       "      <td>0.93</td>\n",
       "    </tr>\n",
       "    <tr>\n",
       "      <th>3</th>\n",
       "      <td>0.811760</td>\n",
       "      <td>0.77</td>\n",
       "      <td>0.58</td>\n",
       "      <td>0.04</td>\n",
       "    </tr>\n",
       "    <tr>\n",
       "      <th>4</th>\n",
       "      <td>0.811508</td>\n",
       "      <td>1.01</td>\n",
       "      <td>0.04</td>\n",
       "      <td>0.78</td>\n",
       "    </tr>\n",
       "    <tr>\n",
       "      <th>5</th>\n",
       "      <td>0.811269</td>\n",
       "      <td>0.80</td>\n",
       "      <td>0.52</td>\n",
       "      <td>0.07</td>\n",
       "    </tr>\n",
       "    <tr>\n",
       "      <th>6</th>\n",
       "      <td>0.811148</td>\n",
       "      <td>0.69</td>\n",
       "      <td>0.25</td>\n",
       "      <td>0.14</td>\n",
       "    </tr>\n",
       "    <tr>\n",
       "      <th>7</th>\n",
       "      <td>0.811139</td>\n",
       "      <td>0.89</td>\n",
       "      <td>0.27</td>\n",
       "      <td>0.11</td>\n",
       "    </tr>\n",
       "    <tr>\n",
       "      <th>8</th>\n",
       "      <td>0.811132</td>\n",
       "      <td>0.77</td>\n",
       "      <td>0.27</td>\n",
       "      <td>0.12</td>\n",
       "    </tr>\n",
       "    <tr>\n",
       "      <th>9</th>\n",
       "      <td>0.811129</td>\n",
       "      <td>0.66</td>\n",
       "      <td>0.04</td>\n",
       "      <td>0.96</td>\n",
       "    </tr>\n",
       "  </tbody>\n",
       "</table>\n",
       "</div>"
      ],
      "text/plain": [
       "    p_value  mixing_coeffient_est  albedo_est  cross_section_est\n",
       "0  0.828280                  0.98        0.25               0.28\n",
       "1  0.814494                  0.76        0.36               0.03\n",
       "2  0.812597                  0.75        0.02               0.93\n",
       "3  0.811760                  0.77        0.58               0.04\n",
       "4  0.811508                  1.01        0.04               0.78\n",
       "5  0.811269                  0.80        0.52               0.07\n",
       "6  0.811148                  0.69        0.25               0.14\n",
       "7  0.811139                  0.89        0.27               0.11\n",
       "8  0.811132                  0.77        0.27               0.12\n",
       "9  0.811129                  0.66        0.04               0.96"
      ]
     },
     "execution_count": 44,
     "metadata": {},
     "output_type": "execute_result"
    }
   ],
   "source": [
    "result_fit"
   ]
  },
  {
   "cell_type": "code",
   "execution_count": 45,
   "metadata": {},
   "outputs": [
    {
     "data": {
      "text/plain": [
       "<AxesSubplot:xlabel='mixing_coeffient_est', ylabel='p_value'>"
      ]
     },
     "execution_count": 45,
     "metadata": {},
     "output_type": "execute_result"
    },
    {
     "data": {
      "image/png": "[encoded data removed]",
      "text/plain": [
       "<Figure size 432x288 with 1 Axes>"
      ]
     },
     "metadata": {
      "needs_background": "light"
     },
     "output_type": "display_data"
    }
   ],
   "source": [
    "sns.lineplot(data=result_fit, x=\"mixing_coeffient_est\", y=\"p_value\", markers=True)\n",
    "sns.lineplot(data=result_fit, x=\"albedo_est\", y=\"p_value\", markers=True)\n",
    "sns.lineplot(data=result_fit, x=\"cross_section_est\", y=\"p_value\", markers=True)"
   ]
  },
  {
   "cell_type": "code",
   "execution_count": null,
   "metadata": {},
   "outputs": [],
   "source": []
  }
 ],
 "metadata": {
  "kernelspec": {
   "display_name": "Python 3.10.4 64-bit",
   "language": "python",
   "name": "python3"
  },
  "language_info": {
   "codemirror_mode": {
    "name": "ipython",
    "version": 3
   },
   "file_extension": ".py",
   "mimetype": "text/x-python",
   "name": "python",
   "nbconvert_exporter": "python",
   "pygments_lexer": "ipython3",
   "version": "3.10.4"
  },
  "orig_nbformat": 4,
  "vscode": {
   "interpreter": {
    "hash": "916dbcbb3f70747c44a77c7bcd40155683ae19c65e1c03b4aa3499c5328201f1"
   }
  }
 },
 "nbformat": 4,
 "nbformat_minor": 2
}
