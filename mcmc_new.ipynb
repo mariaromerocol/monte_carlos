{
 "cells": [
  {
   "cell_type": "code",
   "execution_count": 50,
   "metadata": {},
   "outputs": [],
   "source": [
    "import math\n",
    "import numpy as np\n",
    "import seaborn as sns\n",
    "from time import time\n",
    "import pandas as pd\n",
    "import pymcmcstat\n",
    "import matplotlib.pyplot as plt"
   ]
  },
  {
   "cell_type": "code",
   "execution_count": 114,
   "metadata": {},
   "outputs": [],
   "source": [
    "def model_magnitud(theta, data):\n",
    "    mag_v_sun = -26.72\n",
    "\n",
    "    phase_angle = data['solar_phase_angle']\n",
    "    range_sat = data['range_sat']\n",
    "    cross_section = theta['cross_section']\n",
    "    albedo = theta['albedo'] \n",
    "    mix_coef = theta['mix_coef']\n",
    "\n",
    "   # Change degrees to radian\n",
    "    degtorad = lambda x : x*np.pi/180.\n",
    "\n",
    "   # Definition coefficients of equation\n",
    "    coe_1 = 2/(3*np.pi)\n",
    "    coe_2 = 1/(4*np.pi)\n",
    "\n",
    "    phase_angle_rad = degtorad(phase_angle)\t\n",
    "\n",
    "   \n",
    "    part1 = (coe_1 *((np.pi - phase_angle_rad)*np.cos(phase_angle_rad) - np.sin(phase_angle_rad))) - coe_2\n",
    "   \n",
    "    mag = mag_v_sun - 2.5 * np.log10(cross_section * albedo * (mix_coef * part1) + coe_2) + 5*np.log10(range_sat)\n",
    "    return mag"
   ]
  },
  {
   "cell_type": "code",
   "execution_count": 72,
   "metadata": {},
   "outputs": [],
   "source": [
    " def residual_calc(theta, data_x, data_y):\n",
    "    residual = data_y - model_magnitud(theta, data_x)\n",
    "    return residual"
   ]
  },
  {
   "cell_type": "markdown",
   "metadata": {},
   "source": [
    "### Read Data and create new dataframe"
   ]
  },
  {
   "cell_type": "code",
   "execution_count": 14,
   "metadata": {},
   "outputs": [],
   "source": [
    "# path = '/home/kero/Documents/PhD/Re-analyse/result_analyse.csv'\n",
    "path = '/home/kero/Documents/PhD/re-analyse/test.csv'\n",
    "data_sat = pd.read_csv(path)\n",
    "\n",
    "data_in = pd.DataFrame()\n",
    "# data_in['obs_phase_angle'] = data_sat['obs_phase_angle']\n",
    "# data_in['range_sat'] = data_sat['range_sat']\n",
    "# data_in['mag_observation'] = data_sat['mag_observation']\n",
    "data_in['solar_phase_angle'] = data_sat['SunPhaseAng']\n",
    "data_in['range_sat'] = data_sat['ObsTrailLength']\n",
    "data_in['mag_observation'] = data_sat['ObsMag']\n",
    "data_in['e_mag'] = data_sat['e_ObsMag']\n",
    "n = data_in.shape[0]"
   ]
  },
  {
   "cell_type": "code",
   "execution_count": 70,
   "metadata": {},
   "outputs": [
    {
     "data": {
      "text/plain": [
       "0    16.110501\n",
       "1    16.152526\n",
       "2    15.504687\n",
       "3    13.873254\n",
       "4    16.741181\n",
       "5    16.652843\n",
       "6    16.517102\n",
       "7    13.246052\n",
       "8    15.960430\n",
       "Name: range_sat, dtype: float64"
      ]
     },
     "execution_count": 70,
     "metadata": {},
     "output_type": "execute_result"
    }
   ],
   "source": [
    "5*np.log10(data_in['range_sat'])"
   ]
  },
  {
   "cell_type": "code",
   "execution_count": 16,
   "metadata": {},
   "outputs": [],
   "source": [
    "mean = 0.8\n",
    "std_dev = 0.35\n",
    "num_reps = n\n",
    "num_simulations = 1000\n",
    "\n",
    "cross_section_random = np.random.normal(mean, std_dev, num_reps).round(2)"
   ]
  },
  {
   "cell_type": "code",
   "execution_count": 21,
   "metadata": {},
   "outputs": [
    {
     "data": {
      "text/plain": [
       "array([0.31, 0.62, 0.47, 0.53, 0.74, 0.8 , 0.45, 0.57, 0.42])"
      ]
     },
     "execution_count": 21,
     "metadata": {},
     "output_type": "execute_result"
    }
   ],
   "source": [
    "mean = 0.55\n",
    "std_dev = 0.2\n",
    "num_reps = n\n",
    "num_simulations = 1000\n",
    "\n",
    "albedo_random = np.random.normal(mean, std_dev, num_reps).round(2)"
   ]
  },
  {
   "cell_type": "code",
   "execution_count": 18,
   "metadata": {},
   "outputs": [],
   "source": [
    "mean = 0.75\n",
    "std_dev = 0.12\n",
    "num_reps = n\n",
    "num_simulations = 1000\n",
    "\n",
    "mix_coef_random = np.random.normal(mean, std_dev, num_reps).round(2)"
   ]
  },
  {
   "cell_type": "code",
   "execution_count": 118,
   "metadata": {},
   "outputs": [],
   "source": [
    "def sum_squares(theta, data):\n",
    "\n",
    "    rest = (data['mag_observation'] + data['e_mag']) + model_magnitud(theta, data)\n",
    "    residual = (rest ** 2).sum(axis=0)/(rest.shape[0] - theta.shape[1])\n",
    "    print('type residual',type(residual))\n",
    "    estimator = [residual, rest]\n",
    "    \n",
    "    return estimator"
   ]
  },
  {
   "cell_type": "code",
   "execution_count": 121,
   "metadata": {},
   "outputs": [
    {
     "name": "stdout",
     "output_type": "stream",
     "text": [
      "type residual <class 'numpy.float64'>\n",
      "type residual <class 'numpy.float64'>\n",
      "type residual <class 'numpy.float64'>\n",
      "type residual <class 'numpy.float64'>\n",
      "type residual <class 'numpy.float64'>\n"
     ]
    },
    {
     "name": "stderr",
     "output_type": "stream",
     "text": [
      "/home/kero/.local/lib/python3.10/site-packages/pandas/core/arraylike.py:397: RuntimeWarning: invalid value encountered in log10\n",
      "  result = getattr(ufunc, method)(*inputs, **kwargs)\n",
      "/home/kero/.local/lib/python3.10/site-packages/pandas/core/arraylike.py:397: RuntimeWarning: invalid value encountered in log10\n",
      "  result = getattr(ufunc, method)(*inputs, **kwargs)\n",
      "/home/kero/.local/lib/python3.10/site-packages/pandas/core/arraylike.py:397: RuntimeWarning: invalid value encountered in log10\n",
      "  result = getattr(ufunc, method)(*inputs, **kwargs)\n",
      "/home/kero/.local/lib/python3.10/site-packages/pandas/core/arraylike.py:397: RuntimeWarning: invalid value encountered in log10\n",
      "  result = getattr(ufunc, method)(*inputs, **kwargs)\n"
     ]
    }
   ],
   "source": [
    "for i in range(5):\n",
    "    # Choose random inputs for the sales targets and percent to target\n",
    "    mix_coef = np.random.choice(mix_coef_random)\n",
    "    albedo = np.random.choice(albedo_random)\n",
    "    cross_section = np.random.choice(cross_section_random)\n",
    "    # print(mix_coef, albedo, cross_section)\n",
    "\n",
    "\n",
    "    df = pd.DataFrame(index=range(num_reps), data={'mix_coef': mix_coef,\n",
    "                                                    'albedo': albedo,\n",
    "                                                    'cross_section' : cross_section})\n",
    "    # print('Run model_magnitud')\n",
    "    # print('===============================')\n",
    "    model_value = model_magnitud(df, data_in)\n",
    "    # # print(model_value)\n",
    "    # print('End model_magnitud')\n",
    "    # print('===============================')\n",
    "    \n",
    "    # print('Run sum_squares')\n",
    "    # print('===============================')\n",
    "    \n",
    "    estimador = sum_squares(df, data_in)\n",
    "    \n",
    "    # print('End model_magnitud')\n",
    "    # print('===============================')\n"
   ]
  },
  {
   "cell_type": "code",
   "execution_count": 122,
   "metadata": {},
   "outputs": [
    {
     "data": {
      "text/plain": [
       "0   -0.488228\n",
       "1    0.722993\n",
       "2    1.489675\n",
       "3   -0.104981\n",
       "4    0.352782\n",
       "5    3.450996\n",
       "6         NaN\n",
       "7         NaN\n",
       "8    0.027127\n",
       "dtype: float64"
      ]
     },
     "execution_count": 122,
     "metadata": {},
     "output_type": "execute_result"
    }
   ],
   "source": [
    "estimador"
   ]
  },
  {
   "cell_type": "code",
   "execution_count": null,
   "metadata": {},
   "outputs": [],
   "source": []
  }
 ],
 "metadata": {
  "kernelspec": {
   "display_name": "Python 3.10.4 64-bit",
   "language": "python",
   "name": "python3"
  },
  "language_info": {
   "codemirror_mode": {
    "name": "ipython",
    "version": 3
   },
   "file_extension": ".py",
   "mimetype": "text/x-python",
   "name": "python",
   "nbconvert_exporter": "python",
   "pygments_lexer": "ipython3",
   "version": "3.10.4"
  },
  "orig_nbformat": 4,
  "vscode": {
   "interpreter": {
    "hash": "916dbcbb3f70747c44a77c7bcd40155683ae19c65e1c03b4aa3499c5328201f1"
   }
  }
 },
 "nbformat": 4,
 "nbformat_minor": 2
}
