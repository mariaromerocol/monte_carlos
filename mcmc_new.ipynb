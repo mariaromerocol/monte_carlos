{
 "cells": [
  {
   "cell_type": "code",
   "execution_count": 6,
   "metadata": {},
   "outputs": [],
   "source": [
    "import math\n",
    "import numpy as np\n",
    "import seaborn as sns\n",
    "from time import time\n",
    "import pandas as pd\n",
    "import pymcmcstat\n",
    "import matplotlib.pyplot as plt"
   ]
  },
  {
   "cell_type": "code",
   "execution_count": null,
   "metadata": {},
   "outputs": [],
   "source": [
    "def model_magnitud(theta, data):\n",
    "    mag_v_sun = -26.72\n",
    "\n",
    "    phase_angle = data['obs_phase_angle']\n",
    "    range_sat = data['range_sat']\n",
    "    cross_section = theta['cross_section']\n",
    "    albedo = theta['albedo'] \n",
    "    mix_coef = theta['mix_coeff']\n",
    "\n",
    "   # Change degrees to radian\n",
    "    degtorad = lambda x : x*np.pi/180.\n",
    "\n",
    "   # Definition coefficients of equation\n",
    "    coe_1 = 2/(3*np.pi)\n",
    "    coe_2 = 1/(4*np.pi)\n",
    "\n",
    "    phase_angle_rad = degtorad(phase_angle)\t\n",
    "\n",
    "    part1 = (coe_1 *((np.pi - phase_angle_rad)*np.cos(phase_angle_rad) - np.sin(phase_angle_rad))) - coe_2\n",
    "\t\n",
    "    mag = mag_v_sun - 2.5 * np.log10(cross_section * albedo * (mix_coef * part1) + coe_2) + 5*np.log10(range_sat)\n",
    "    return mag"
   ]
  },
  {
   "cell_type": "code",
   "execution_count": null,
   "metadata": {},
   "outputs": [],
   "source": [
    "def sum_squares(theta, data):\n",
    "\n",
    "    rest = data['mag_observation'] - model_magnitud(theta, data)\n",
    "    print(rest)\n",
    "    return (rest ** 2).sum(axis=0)\n",
    "\n",
    "def residual_calc(theta, data_x, data_y):\n",
    "    residual = data_y - model_magnitud(theta, data_x)\n",
    "    return residual"
   ]
  },
  {
   "cell_type": "markdown",
   "metadata": {},
   "source": [
    "### Read Data and create new dataframe"
   ]
  },
  {
   "cell_type": "code",
   "execution_count": 13,
   "metadata": {},
   "outputs": [
    {
     "data": {
      "text/plain": [
       "(144, 3)"
      ]
     },
     "execution_count": 13,
     "metadata": {},
     "output_type": "execute_result"
    }
   ],
   "source": [
    "path = '/home/kero/Documents/PhD/Re-analyse/result_analyse.csv'\n",
    "data_sat = pd.read_csv(path)\n",
    "\n",
    "data_in = pd.DataFrame()\n",
    "data_in['obs_phase_angle'] = data_sat['obs_phase_angle']\n",
    "data_in['range_sat'] = data_sat['range_sat']\n",
    "data_in['mag_observation'] = data_sat['mag_observation']\n",
    "data_in.shape"
   ]
  },
  {
   "cell_type": "code",
   "execution_count": 14,
   "metadata": {},
   "outputs": [],
   "source": [
    "theta0 = dict(\n",
    "        cross_section=0.5,\n",
    "        albedo=0.,\n",
    "        mix_coef=0.5\n",
    "        )\n",
    "\n",
    "mean = 0.8\n",
    "std_dev = 0.35\n",
    "num_reps = 144\n",
    "num_simulations = 1000\n",
    "\n",
    "cross_section = np.random.normal(mean, std_dev, num_reps).round(2)"
   ]
  },
  {
   "cell_type": "code",
   "execution_count": 15,
   "metadata": {},
   "outputs": [],
   "source": [
    "mean = 0.55\n",
    "std_dev = 0.2\n",
    "num_reps = 144\n",
    "num_simulations = 1000\n",
    "\n",
    "albedo = np.random.normal(mean, std_dev, num_reps).round(2)"
   ]
  },
  {
   "cell_type": "code",
   "execution_count": 16,
   "metadata": {},
   "outputs": [],
   "source": [
    "mean = 0.75\n",
    "std_dev = 0.12\n",
    "num_reps = 144\n",
    "num_simulations = 1000\n",
    "\n",
    "mix_coef = np.random.normal(mean, std_dev, num_reps).round(2)\n"
   ]
  },
  {
   "cell_type": "code",
   "execution_count": 17,
   "metadata": {},
   "outputs": [
    {
     "data": {
      "text/plain": [
       "(144,)"
      ]
     },
     "execution_count": 17,
     "metadata": {},
     "output_type": "execute_result"
    }
   ],
   "source": [
    "np.shape(mix_coef)"
   ]
  },
  {
   "cell_type": "code",
   "execution_count": null,
   "metadata": {},
   "outputs": [],
   "source": [
    "for i in range(num_simulations):\n",
    "    # Choose random inputs for the sales targets and percent to target\n",
    "    mix_coef = np.random.normal(mean, std_dev, num_reps).round(2)\n",
    "    albedo = np.random.normal(mean, std_dev, num_reps).round(2)\n",
    "    cross_section = np.random.normal(mean, std_dev, num_reps).round(2)\n",
    "\n",
    "\n",
    "    df = pd.DataFrame(index=range(num_reps), data={'mix_coef': mix_coef,\n",
    "                                                'albedo': albedo,\n",
    "                                                'cross_section' : cross_section})\n",
    "\n",
    "    model_value = model_magnitud(df, data_in)\n",
    "\n",
    "    residual_value = model_value - data_in['mag_observation']\n",
    "\n",
    "    result = pd.DataFrame(index=range(num_reps), data={'Pct_To_Target': pct_to_target,\n",
    "                                                   'Sales_Target': sales_target})\n",
    "\n"
   ]
  }
 ],
 "metadata": {
  "kernelspec": {
   "display_name": "Python 3.10.4 64-bit",
   "language": "python",
   "name": "python3"
  },
  "language_info": {
   "codemirror_mode": {
    "name": "ipython",
    "version": 3
   },
   "file_extension": ".py",
   "mimetype": "text/x-python",
   "name": "python",
   "nbconvert_exporter": "python",
   "pygments_lexer": "ipython3",
   "version": "3.10.4"
  },
  "orig_nbformat": 4,
  "vscode": {
   "interpreter": {
    "hash": "916dbcbb3f70747c44a77c7bcd40155683ae19c65e1c03b4aa3499c5328201f1"
   }
  }
 },
 "nbformat": 4,
 "nbformat_minor": 2
}
