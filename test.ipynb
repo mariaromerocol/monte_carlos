{
 "cells": [
  {
   "cell_type": "code",
   "execution_count": 55,
   "metadata": {},
   "outputs": [],
   "source": [
    "import math\n",
    "import numpy as np\n",
    "from time import time\n",
    "import pandas as pd\n",
    "\n",
    "\"\"\"\n",
    "m is a resultant brightness\n",
    "m$_{\\odot}$ is a Sun’s magnitude\n",
    "$\\varphi$ is the satellite-sun-sensor solar phase angle (0º < STO < 90º)\n",
    "A is the cross-sectonal area\n",
    "$\\textcolor{blue}{\\rho}$ is the bond albedo\n",
    "R$\\textcolor{orange}{_{m}}$= is the range to target (400km < R$\\textcolor{orange}{_m}$ < 2500 km) \n",
    "\"\"\"\n",
    "\n",
    "mag_v_sun = -26.72              #Sun's V magnitude of Gaia   Jordi et al. 2010"
   ]
  },
  {
   "cell_type": "code",
   "execution_count": null,
   "metadata": {},
   "outputs": [],
   "source": [
    "### TEST\n",
    "model_magnitud(-26.95, 24.5, 1, 0.5, 18423.2, 1)"
   ]
  },
  {
   "cell_type": "markdown",
   "metadata": {},
   "source": [
    "### Model of brightness"
   ]
  },
  {
   "cell_type": "code",
   "execution_count": 56,
   "metadata": {},
   "outputs": [],
   "source": [
    "def model_magnitud(data_in, parameters_fit):\n",
    "\tmag_v_sun = -26.72\n",
    "\n",
    "\tphase_angle = data_in[1]\n",
    "\trange_sat = data_in[2]\n",
    "\tcross_section = parameters_fit[0]\n",
    "\talbedo = parameters_fit[1] \n",
    "\tmix_coe = parameters_fit[2]\n",
    "\n",
    "   # Change degrees to radian\n",
    "\tdegtorad = lambda x : x*np.pi/180.\n",
    "\n",
    "   # Definition coefficients of equation\n",
    "\tcoe_1 = 2/(3*np.pi)\n",
    "\tcoe_2 = 1/(4*np.pi)\n",
    "\n",
    "\tphase_angle_rad = degtorad(phase_angle)\n",
    "\n",
    "\tpart1 = (coe_1 *((np.pi - phase_angle_rad)*np.cos(phase_angle_rad) - np.sin(phase_angle_rad))) - coe_2\n",
    "\tprint(part1)\n",
    "\tmag = mag_v_sun - 2.5 * np.log10(cross_section * albedo * (mix_coe * part1) + coe_2) + 5*np.log10(range_sat)\n",
    "\t\n",
    "\tdata_out = {'mag' : mag,\n",
    "\t\t\t'phase_angle' : phase_angle,\n",
    "\t\t\t'cross_sectio' : cross_section,\n",
    "\t\t\t'albedo' : albedo,\n",
    "\t\t\t'range_sat' : range_sat,\n",
    "\t\t\t'mix_coe' : mix_coe\n",
    "\t}\n",
    "\t\n",
    "\t# all_mag = pd.DataFrame(data_out)\n",
    "\t# print(data_out)\n",
    "\treturn mag"
   ]
  },
  {
   "cell_type": "markdown",
   "metadata": {},
   "source": [
    "### Define model and sum-of-squares function \n",
    "\n",
    "theta is a result of mcstat = MCMC()"
   ]
  },
  {
   "cell_type": "code",
   "execution_count": 57,
   "metadata": {},
   "outputs": [],
   "source": [
    "def sum_squares(data, theta):\n",
    "\n",
    "    value_model = model_magnitud(data, theta)\n",
    "    residual = data[0] - value_model\n",
    "    # print(residual)\n",
    "    return (residual ** 2).sum(axis=0)\n",
    "    "
   ]
  },
  {
   "cell_type": "code",
   "execution_count": 35,
   "metadata": {},
   "outputs": [],
   "source": [
    "path = '/home/kero/Documents/PhD/Re-analyse/result_analyse.csv'\n",
    "data_sat = pd.read_csv(path)\n",
    "\n"
   ]
  },
  {
   "cell_type": "code",
   "execution_count": 53,
   "metadata": {},
   "outputs": [
    {
     "name": "stdout",
     "output_type": "stream",
     "text": [
      "18423.2\n",
      "0.3564921766929614\n",
      "{'mag': -3.460965691709177, 'phase_angle': 24.5, 'cross_sectio': 1.0, 'albedo': 0.5, 'range_sat': 18423.2, 'mix_coe': 0.5}\n",
      "0.3564921766929614\n",
      "{'mag': -3.460965691709177, 'phase_angle': 24.5, 'cross_sectio': 1.0, 'albedo': 0.5, 'range_sat': 18423.2, 'mix_coe': 0.5}\n",
      "-0.5390343082908231\n"
     ]
    },
    {
     "data": {
      "text/plain": [
       "0.29055798551456613"
      ]
     },
     "execution_count": 53,
     "metadata": {},
     "output_type": "execute_result"
    }
   ],
   "source": [
    "data_in = [24.5, 18423.2]\n",
    "parameters_fit = [1., 0.5, .5]\n",
    "print(data_in[1])\n",
    "model_magnitud(data_in, parameters_fit)\n",
    "\n",
    "sum_squares(data_in, parameters_fit)\n"
   ]
  },
  {
   "cell_type": "markdown",
   "metadata": {},
   "source": [
    "## Monte Carlo"
   ]
  },
  {
   "cell_type": "code",
   "execution_count": 58,
   "metadata": {},
   "outputs": [],
   "source": [
    "import math\n",
    "import pymcmcstat\n",
    "import numpy as np\n",
    "import pandas as pd\n",
    "from pymcmcstat.MCMC import MCMC\n",
    "import matplotlib.pyplot as plt\n"
   ]
  },
  {
   "cell_type": "code",
   "execution_count": 59,
   "metadata": {},
   "outputs": [],
   "source": [
    "path = '/home/kero/Documents/PhD/Re-analyse/result_analyse.csv'\n",
    "data_sat = pd.read_csv(path)"
   ]
  },
  {
   "cell_type": "code",
   "execution_count": 60,
   "metadata": {},
   "outputs": [],
   "source": [
    "# Constants\n",
    "# Sun's magnitud\n",
    "mag_sun = -26.72\n",
    "\n",
    "# Define data\n",
    "range_sat = data_sat['range_sat'].to_numpy()\n",
    "mag_observation = data_sat['mag_observation'].to_numpy()\n",
    "mag_estimate = data_sat['mag_estimate'].to_numpy()\n",
    "sat_phase_angle = data_sat['obs_phase_angle'].to_numpy()\n",
    "\n",
    "\n",
    "data_in = np.array([mag_estimate, sat_phase_angle, range_sat])\n",
    "\n"
   ]
  },
  {
   "cell_type": "code",
   "execution_count": 61,
   "metadata": {},
   "outputs": [
    {
     "ename": "TypeError",
     "evalue": "DataStructure.add_data_set() missing 1 required positional argument: 'y'",
     "output_type": "error",
     "traceback": [
      "\u001b[0;31m---------------------------------------------------------------------------\u001b[0m",
      "\u001b[0;31mTypeError\u001b[0m                                 Traceback (most recent call last)",
      "\u001b[1;32m/home/kero/Documents/PhD/monte_carlo/monte_carlos/test.ipynb Cell 13\u001b[0m in \u001b[0;36m<cell line: 5>\u001b[0;34m()\u001b[0m\n\u001b[1;32m      <a href='vscode-notebook-cell:/home/kero/Documents/PhD/monte_carlo/monte_carlos/test.ipynb#ch0000012?line=1'>2</a>\u001b[0m mcstat \u001b[39m=\u001b[39m MCMC()\n\u001b[1;32m      <a href='vscode-notebook-cell:/home/kero/Documents/PhD/monte_carlo/monte_carlos/test.ipynb#ch0000012?line=3'>4</a>\u001b[0m \u001b[39m# initialize data structure \u001b[39;00m\n\u001b[0;32m----> <a href='vscode-notebook-cell:/home/kero/Documents/PhD/monte_carlo/monte_carlos/test.ipynb#ch0000012?line=4'>5</a>\u001b[0m mcstat\u001b[39m.\u001b[39;49mdata\u001b[39m.\u001b[39;49madd_data_set(\n\u001b[1;32m      <a href='vscode-notebook-cell:/home/kero/Documents/PhD/monte_carlo/monte_carlos/test.ipynb#ch0000012?line=5'>6</a>\u001b[0m     data_in, user_defined_object\u001b[39m=\u001b[39;49mmodel_magnitud\n\u001b[1;32m      <a href='vscode-notebook-cell:/home/kero/Documents/PhD/monte_carlo/monte_carlos/test.ipynb#ch0000012?line=6'>7</a>\u001b[0m )\n",
      "\u001b[0;31mTypeError\u001b[0m: DataStructure.add_data_set() missing 1 required positional argument: 'y'"
     ]
    }
   ],
   "source": [
    "# Initialize MCMC object\n",
    "mcstat = MCMC()\n",
    "\n",
    "# initialize data structure \n",
    "mcstat.data.add_data_set(\n",
    "    data_in, user_defined_object=model_magnitud\n",
    ")\n"
   ]
  },
  {
   "cell_type": "code",
   "execution_count": null,
   "metadata": {},
   "outputs": [],
   "source": [
    "# initialize parameter array\n",
    "cross_section_int = [0.5, 1.3]\n",
    "albedo_int = [0., 1.]\n",
    "mix_coeff_int = [.5, 1.]\n",
    "\n",
    "mcstat.parameters.add_model_parameter(name='cross_section',\n",
    "                                      theta0=cross_section_int[0], \n",
    "                                      minimum=0.5, maximum=1.3, \n",
    "                                      prior_mu=0.9, prior_sigma=0.4)\n",
    "\n",
    "mcstat.parameters.add_model_parameter(name='albedo',\n",
    "                                      theta0=albedo_int[0], minimum=0., \n",
    "                                      maximum=1., prior_mu=0.5, \n",
    "                                      prior_sigma=0.3)\n",
    "\n",
    "mcstat.parameters.add_model_parameter(name='albedo',\n",
    "                                      theta0=mix_coeff_int[0], minimum=0.5, \n",
    "                                      maximum=1., prior_mu=0.75, \n",
    "                                      prior_sigma=0.2)\n",
    "\n",
    "# Generate samples\n",
    "mcstat.simulation_options.define_simulation_options(adaptint=2.0e3)\n",
    "\n",
    "# Define method for estimating the error variance and computing the covariance matrix\n",
    "mcstat.model_settings.define_model_settings(sos_function = sum_squares)"
   ]
  },
  {
   "cell_type": "code",
   "execution_count": null,
   "metadata": {},
   "outputs": [],
   "source": [
    "# Run mcmcrun\n",
    "mcstat.run_simulation()"
   ]
  },
  {
   "cell_type": "code",
   "execution_count": null,
   "metadata": {},
   "outputs": [],
   "source": [
    "import math\n",
    "import numpy as np\n",
    "from numpy.random import normal\n",
    "from time import time\n",
    "import matplotlib.pyplot as plt\n",
    "import seaborn as sns\n",
    "\n",
    "cross_section_0 = 0.9\n",
    "albedo_0 = 0.5\n",
    "\n",
    "cross_dist = normal(loc=0.9, scale=0.4, size=2000)\n",
    "albedo = normal(loc=0.5, scale=0.25, size=2000)\n",
    "sns.histplot(albedo, kde=True)"
   ]
  },
  {
   "cell_type": "code",
   "execution_count": null,
   "metadata": {},
   "outputs": [],
   "source": []
  },
  {
   "cell_type": "code",
   "execution_count": null,
   "metadata": {},
   "outputs": [],
   "source": []
  }
 ],
 "metadata": {
  "kernelspec": {
   "display_name": "Python 3.10.4 64-bit",
   "language": "python",
   "name": "python3"
  },
  "language_info": {
   "codemirror_mode": {
    "name": "ipython",
    "version": 3
   },
   "file_extension": ".py",
   "mimetype": "text/x-python",
   "name": "python",
   "nbconvert_exporter": "python",
   "pygments_lexer": "ipython3",
   "version": "3.10.4"
  },
  "orig_nbformat": 4,
  "vscode": {
   "interpreter": {
    "hash": "916dbcbb3f70747c44a77c7bcd40155683ae19c65e1c03b4aa3499c5328201f1"
   }
  }
 },
 "nbformat": 4,
 "nbformat_minor": 2
}
