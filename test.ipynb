{
 "cells": [
  {
   "cell_type": "code",
   "execution_count": 11,
   "metadata": {},
   "outputs": [],
   "source": [
    "import math\n",
    "import numpy as np\n",
    "import seaborn as sns\n",
    "from time import time\n",
    "import pandas as pd\n",
    "import pymcmcstat\n",
    "import matplotlib.pyplot as plt\n",
    "from pymcmcstat.MCMC import MCMC\n",
    "from pymcmcstat.MCMC import DataStructure#,  ModelParameters\n",
    "\n",
    "\"\"\"\n",
    "m is a resultant brightness\n",
    "m$_{\\odot}$ is a Sun’s magnitude\n",
    "$\\varphi$ is the satellite-sun-sensor solar phase angle (0º < STO < 90º)\n",
    "A is the cross-sectonal area\n",
    "$\\textcolor{blue}{\\rho}$ is the bond albedo\n",
    "R$\\textcolor{orange}{_{m}}$= is the range to target (400km < R$\\textcolor{orange}{_m}$ < 2500 km) \n",
    "\"\"\"\n",
    "\n",
    "mag_v_sun = -26.72              #Sun's V magnitude of Gaia   Jordi et al. 2010"
   ]
  },
  {
   "cell_type": "markdown",
   "metadata": {},
   "source": [
    "### Model of brightness"
   ]
  },
  {
   "cell_type": "code",
   "execution_count": 3,
   "metadata": {},
   "outputs": [],
   "source": [
    "def sum_squares(theta, data):\n",
    "\n",
    "    value_model = model_magnitud(theta, data)\n",
    "    residual = data[2] - value_model\n",
    "    # print(residual)\n",
    "    return (residual ** 2).sum(axis=0)\n",
    "\n",
    "def model_magnitud(theta, data_in):\n",
    "\tmag_v_sun = -26.72\n",
    "\n",
    "\tphase_angle = data_in[0].T\n",
    "\trange_sat = data_in[1].T\n",
    "\tcross_section = theta[0]\n",
    "\talbedo = theta[1] \n",
    "\tmix_coe = theta[2]\n",
    "\n",
    "   # Change degrees to radian\n",
    "\tdegtorad = lambda x : x*np.pi/180.\n",
    "\n",
    "   # Definition coefficients of equation\n",
    "\tcoe_1 = 2/(3*np.pi)\n",
    "\tcoe_2 = 1/(4*np.pi)\n",
    "\n",
    "\tphase_angle_rad = degtorad(phase_angle)\n",
    "\n",
    "\tpart1 = (coe_1 *((np.pi - phase_angle_rad)*np.cos(phase_angle_rad) - np.sin(phase_angle_rad))) - coe_2\n",
    "\t\n",
    "\tmag = mag_v_sun - 2.5 * np.log10(cross_section * albedo * (mix_coe * part1) + coe_2) + 5*np.log10(range_sat)\n",
    "\t\n",
    "\t# data_out = {'mag' : mag,\n",
    "\t# \t\t'phase_angle' : phase_angle,\n",
    "\t# \t\t'cross_sectio' : cross_section,\n",
    "\t# \t\t'albedo' : albedo,\n",
    "\t# \t\t'range_sat' : range_sat,\n",
    "\t# \t\t'mix_coe' : mix_coe\n",
    "\t# }\n",
    "\t\n",
    "\t# all_mag = pd.DataFrame(data_out)\n",
    "\t# print(data_out)\n",
    "\treturn mag"
   ]
  },
  {
   "cell_type": "markdown",
   "metadata": {},
   "source": [
    "### Define model and sum-of-squares function \n",
    "\n",
    "theta is a result of mcstat = MCMC()"
   ]
  },
  {
   "cell_type": "code",
   "execution_count": 4,
   "metadata": {},
   "outputs": [],
   "source": [
    "def sum_squares(theta, data):\n",
    "\n",
    "    value_model = model_magnitud(theta, data)\n",
    "    residual = data[2] - value_model\n",
    "    # print(residual)\n",
    "    return (residual ** 2).sum(axis=0)\n",
    "    "
   ]
  },
  {
   "cell_type": "code",
   "execution_count": 5,
   "metadata": {},
   "outputs": [],
   "source": [
    "path = '/home/kero/Documents/PhD/Re-analyse/result_analyse.csv'\n",
    "data_sat = pd.read_csv(path)\n",
    "# data_sat.columns"
   ]
  },
  {
   "cell_type": "code",
   "execution_count": 6,
   "metadata": {},
   "outputs": [
    {
     "name": "stdout",
     "output_type": "stream",
     "text": [
      "\n"
     ]
    }
   ],
   "source": [
    "# Constants\n",
    "# Sun's magnitud\n",
    "mag_sun = -26.72\n",
    "\n",
    "# Define data\n",
    "range_sat = data_sat['range_sat'].to_numpy().T\n",
    "mag_observation = data_sat['mag_observation'].to_numpy().T\n",
    "mag_estimate = data_sat['mag_estimate'].to_numpy().T\n",
    "sat_phase_angle = data_sat['obs_phase_angle'].to_numpy().T\n",
    "\n",
    "print()\n",
    "data_x = np.array([sat_phase_angle, range_sat, mag_observation])\n",
    "\n",
    "\n",
    "# Give format of data\n",
    "data_in = DataStructure()\n",
    "data_in.add_data_set(x= data_x, y = data_x[2])\n",
    "\n",
    "\n",
    "# initialize parameter array\n",
    "cross_section_int = [0.5, 1.3]\n",
    "albedo_int = [0., 1.]\n",
    "mix_coeff_int = [.5, 1.]\n",
    "\n"
   ]
  },
  {
   "cell_type": "code",
   "execution_count": 16,
   "metadata": {},
   "outputs": [
    {
     "data": {
      "text/plain": [
       "0      13.186802\n",
       "1       9.196008\n",
       "2       8.586037\n",
       "3       8.537361\n",
       "4       9.343130\n",
       "         ...    \n",
       "139     4.463076\n",
       "140     4.668030\n",
       "141     4.363651\n",
       "142     4.459842\n",
       "143     4.883775\n",
       "Name: mag_estimate, Length: 144, dtype: float64"
      ]
     },
     "execution_count": 16,
     "metadata": {},
     "output_type": "execute_result"
    }
   ],
   "source": [
    "data_x[0].T\n",
    "\n",
    "data_sat['mag_estimate']\n",
    "\n",
    "\n"
   ]
  },
  {
   "cell_type": "code",
   "execution_count": null,
   "metadata": {},
   "outputs": [],
   "source": [
    "import seaborn as sns\n",
    "\n",
    "sns.jointplot(data=data_sat, x=\"obs_phase_angle\", y=\"mag_observation\")"
   ]
  },
  {
   "cell_type": "code",
   "execution_count": 7,
   "metadata": {},
   "outputs": [],
   "source": [
    "# Initialize MCMC object\n",
    "mcstat = MCMC()\n",
    "\n",
    "# initialize data structure \n",
    "# mcstat.data.add_data_set(\n",
    "#     x=data_x, y=data_y, user_defined_object=model_magnitud\n",
    "# )\n",
    "mcstat.data = data_in\n"
   ]
  },
  {
   "cell_type": "code",
   "execution_count": 15,
   "metadata": {},
   "outputs": [
    {
     "data": {
      "text/plain": [
       "method"
      ]
     },
     "execution_count": 15,
     "metadata": {},
     "output_type": "execute_result"
    }
   ],
   "source": []
  },
  {
   "cell_type": "code",
   "execution_count": 10,
   "metadata": {},
   "outputs": [
    {
     "ename": "AttributeError",
     "evalue": "'ModelParameters' object has no attribute 'display_model_parameter_settings'",
     "output_type": "error",
     "traceback": [
      "\u001b[0;31m---------------------------------------------------------------------------\u001b[0m",
      "\u001b[0;31mAttributeError\u001b[0m                            Traceback (most recent call last)",
      "\u001b[1;32m/home/kero/Documents/PhD/monte_carlo/monte_carlos/test.ipynb Cell 11\u001b[0m in \u001b[0;36m<cell line: 12>\u001b[0;34m()\u001b[0m\n\u001b[1;32m      <a href='vscode-notebook-cell:/home/kero/Documents/PhD/monte_carlo/monte_carlos/test.ipynb#ch0000010?line=5'>6</a>\u001b[0m mcstat\u001b[39m.\u001b[39mparameters\u001b[39m.\u001b[39madd_model_parameter(name\u001b[39m=\u001b[39m\u001b[39m'\u001b[39m\u001b[39malbedo\u001b[39m\u001b[39m'\u001b[39m,\n\u001b[1;32m      <a href='vscode-notebook-cell:/home/kero/Documents/PhD/monte_carlo/monte_carlos/test.ipynb#ch0000010?line=6'>7</a>\u001b[0m                                       theta0\u001b[39m=\u001b[39mtheta0[\u001b[39m1\u001b[39m])\n\u001b[1;32m      <a href='vscode-notebook-cell:/home/kero/Documents/PhD/monte_carlo/monte_carlos/test.ipynb#ch0000010?line=8'>9</a>\u001b[0m mcstat\u001b[39m.\u001b[39mparameters\u001b[39m.\u001b[39madd_model_parameter(name\u001b[39m=\u001b[39m\u001b[39m'\u001b[39m\u001b[39mmix_coeff\u001b[39m\u001b[39m'\u001b[39m,\n\u001b[1;32m     <a href='vscode-notebook-cell:/home/kero/Documents/PhD/monte_carlo/monte_carlos/test.ipynb#ch0000010?line=9'>10</a>\u001b[0m                                       theta0\u001b[39m=\u001b[39mtheta0[\u001b[39m2\u001b[39m])\n\u001b[0;32m---> <a href='vscode-notebook-cell:/home/kero/Documents/PhD/monte_carlo/monte_carlos/test.ipynb#ch0000010?line=11'>12</a>\u001b[0m mcstat\u001b[39m.\u001b[39;49mparameters\u001b[39m.\u001b[39;49mdisplay_model_parameter_settings()\n",
      "\u001b[0;31mAttributeError\u001b[0m: 'ModelParameters' object has no attribute 'display_model_parameter_settings'"
     ]
    }
   ],
   "source": [
    "theta0 = [0.5, 0., 0.5]\n",
    "\n",
    "mcstat.parameters.add_model_parameter(name='cross_section',\n",
    "                                      theta0=theta0[0])\n",
    "\n",
    "mcstat.parameters.add_model_parameter(name='albedo',\n",
    "                                      theta0=theta0[1])\n",
    "\n",
    "mcstat.parameters.add_model_parameter(name='mix_coeff',\n",
    "                                      theta0=theta0[2])\n",
    "\n",
    "mcstat.parameters.display_model_parameter_settings()"
   ]
  },
  {
   "cell_type": "code",
   "execution_count": null,
   "metadata": {},
   "outputs": [],
   "source": [
    "# Define method for estimating the error variance and computing the covariance matrix\n",
    "mcstat.model_settings.define_model_settings(sos_function = sum_squares)\n",
    "\n",
    "# Generate samples\n",
    "mcstat.simulation_options.define_simulation_options(nsimu = 5000,\n",
    "                                                    updatesigma=True)\n",
    "\n",
    "\n"
   ]
  },
  {
   "cell_type": "code",
   "execution_count": null,
   "metadata": {},
   "outputs": [],
   "source": [
    "mcstat.run_simulation(use_previous_results=False)"
   ]
  },
  {
   "cell_type": "code",
   "execution_count": null,
   "metadata": {},
   "outputs": [],
   "source": [
    "from pymcmcstat import mcmcplot as mcp\n",
    "# plot chain panel\n",
    "mcp.plot_chain_panel(chain, names)\n",
    "# pairwise correlation\n",
    "settings = dict(fig=dict(figsize=(4, 4)))\n",
    "f = mcp.plot_pairwise_correlation_panel(chain, names, settings=settings)"
   ]
  },
  {
   "cell_type": "code",
   "execution_count": null,
   "metadata": {},
   "outputs": [],
   "source": []
  }
 ],
 "metadata": {
  "kernelspec": {
   "display_name": "Python 3.10.4 64-bit",
   "language": "python",
   "name": "python3"
  },
  "language_info": {
   "codemirror_mode": {
    "name": "ipython",
    "version": 3
   },
   "file_extension": ".py",
   "mimetype": "text/x-python",
   "name": "python",
   "nbconvert_exporter": "python",
   "pygments_lexer": "ipython3",
   "version": "3.10.4"
  },
  "orig_nbformat": 4,
  "vscode": {
   "interpreter": {
    "hash": "916dbcbb3f70747c44a77c7bcd40155683ae19c65e1c03b4aa3499c5328201f1"
   }
  }
 },
 "nbformat": 4,
 "nbformat_minor": 2
}
