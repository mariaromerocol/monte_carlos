{
 "cells": [
  {
   "cell_type": "code",
   "execution_count": 1,
   "metadata": {},
   "outputs": [],
   "source": [
    "import math\n",
    "import numpy as np\n",
    "from time import time\n",
    "import pandas as pd\n",
    "\n",
    "\"\"\"\n",
    "m is a resultant brightness\n",
    "m$_{\\odot}$ is a Sun’s magnitude\n",
    "$\\varphi$ is the satellite-sun-sensor solar phase angle (0º < STO < 90º)\n",
    "A is the cross-sectonal area\n",
    "$\\textcolor{blue}{\\rho}$ is the bond albedo\n",
    "R$\\textcolor{orange}{_{m}}$= is the range to target (400km < R$\\textcolor{orange}{_m}$ < 2500 km) \n",
    "\"\"\"\n",
    "\n",
    "mag_v_sun = -26.72              #Sun's V magnitude of Gaia   Jordi et al. 2010"
   ]
  },
  {
   "cell_type": "code",
   "execution_count": 15,
   "metadata": {},
   "outputs": [],
   "source": [
    "def degtorad(x):\n",
    "    x_rad = x*np.pi/180.\n",
    "    return x_rad"
   ]
  },
  {
   "cell_type": "code",
   "execution_count": 20,
   "metadata": {},
   "outputs": [
    {
     "name": "stdout",
     "output_type": "stream",
     "text": [
      "0.4276056667386107\n",
      "0.4276056667386107\n"
     ]
    }
   ],
   "source": [
    "print(degtorad(24.5))\n",
    "\n",
    "print(x_rad(24.5))"
   ]
  },
  {
   "cell_type": "code",
   "execution_count": 21,
   "metadata": {},
   "outputs": [],
   "source": [
    "def model_magnitud(mag_sun, phase_angle, cross_section, albedo, range_sat, mix_coe):\n",
    "\n",
    "\tdegtorad = lambda x : x*np.pi/180.\n",
    "\n",
    "\tcoe_1 = 2/(3*np.pi)\n",
    "\tcoe_2 = 1/(4*np.pi)\n",
    "\tphase_angle_rad = degtorad(phase_angle)\n",
    "\tpart1 = (coe_1 *((np.pi - phase_angle_rad)*np.cos(phase_angle_rad) - np.sin(phase_angle_rad))) - coe_2\n",
    "\tprint(part1)\n",
    "\tmag = mag_sun - 2.5 * np.log10(cross_section * albedo * (mix_coe * part1) + coe_2) + 5*np.log10(range_sat)\n",
    "\t\n",
    "\tdata = {'mag' : mag,\n",
    "\t\t\t'mag_sun' : mag_sun,\n",
    "\t\t\t'phase_angle' : phase_angle,\n",
    "\t\t\t'cross_sectio' : cross_section,\n",
    "\t\t\t'albedo' : albedo,\n",
    "\t\t\t'range_sat' : range_sat,\n",
    "\t\t\t'mix_coe' : mix_coe\n",
    "\t}\n",
    "\t\n",
    "\treturn data"
   ]
  },
  {
   "cell_type": "code",
   "execution_count": 22,
   "metadata": {},
   "outputs": [
    {
     "name": "stdout",
     "output_type": "stream",
     "text": [
      "0.3564921766929614\n"
     ]
    },
    {
     "data": {
      "text/plain": [
       "{'mag': -4.151481167672863,\n",
       " 'mag_sun': -26.95,\n",
       " 'phase_angle': 24.5,\n",
       " 'cross_sectio': 1,\n",
       " 'albedo': 0.5,\n",
       " 'range_sat': 18423.2,\n",
       " 'mix_coe': 1}"
      ]
     },
     "execution_count": 22,
     "metadata": {},
     "output_type": "execute_result"
    }
   ],
   "source": [
    "\n",
    "model_magnitud(-26.95, 24.5, 1, 0.5, 18423.2, 1)"
   ]
  },
  {
   "cell_type": "markdown",
   "metadata": {},
   "source": [
    "## Monte Carlo"
   ]
  },
  {
   "cell_type": "code",
   "execution_count": 136,
   "metadata": {},
   "outputs": [
    {
     "data": {
      "text/plain": [
       "-21.628069228198385"
      ]
     },
     "execution_count": 136,
     "metadata": {},
     "output_type": "execute_result"
    }
   ],
   "source": [
    "np.random.seed(20000)\n",
    "t0 = time()"
   ]
  },
  {
   "cell_type": "code",
   "execution_count": 43,
   "metadata": {},
   "outputs": [
    {
     "data": {
      "text/plain": [
       "<AxesSubplot:ylabel='Count'>"
      ]
     },
     "execution_count": 43,
     "metadata": {},
     "output_type": "execute_result"
    },
    {
     "data": {
      "image/png": "[encoded data removed]",
      "text/plain": [
       "<Figure size 432x288 with 1 Axes>"
      ]
     },
     "metadata": {
      "needs_background": "light"
     },
     "output_type": "display_data"
    }
   ],
   "source": [
    "import math\n",
    "import numpy as np\n",
    "from numpy.random import normal\n",
    "from time import time\n",
    "import matplotlib.pyplot as plt\n",
    "import seaborn as sns\n",
    "\n",
    "cross_section_0 = 0.9\n",
    "albedo_0 = 0.5\n",
    "\n",
    "cross_dist = normal(loc=0.9, scale=0.4, size=2000)\n",
    "albedo = normal(loc=0.5, scale=0.25, size=2000)\n",
    "sns.histplot(cross_dist, kde=True)"
   ]
  },
  {
   "cell_type": "code",
   "execution_count": 32,
   "metadata": {},
   "outputs": [
    {
     "data": {
      "text/plain": [
       "0.9238785631396729"
      ]
     },
     "execution_count": 32,
     "metadata": {},
     "output_type": "execute_result"
    }
   ],
   "source": []
  },
  {
   "cell_type": "code",
   "execution_count": null,
   "metadata": {},
   "outputs": [],
   "source": []
  }
 ],
 "metadata": {
  "kernelspec": {
   "display_name": "Python 3.10.4 64-bit",
   "language": "python",
   "name": "python3"
  },
  "language_info": {
   "codemirror_mode": {
    "name": "ipython",
    "version": 3
   },
   "file_extension": ".py",
   "mimetype": "text/x-python",
   "name": "python",
   "nbconvert_exporter": "python",
   "pygments_lexer": "ipython3",
   "version": "3.10.4"
  },
  "orig_nbformat": 4,
  "vscode": {
   "interpreter": {
    "hash": "916dbcbb3f70747c44a77c7bcd40155683ae19c65e1c03b4aa3499c5328201f1"
   }
  }
 },
 "nbformat": 4,
 "nbformat_minor": 2
}
