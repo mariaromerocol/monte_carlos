{
 "cells": [
  {
   "cell_type": "code",
   "execution_count": 98,
   "metadata": {},
   "outputs": [],
   "source": [
    "import math\n",
    "import numpy as np\n",
    "from time import time\n",
    "import pandas as pd\n",
    "\n",
    "\"\"\"\n",
    "m is a resultant brightness\n",
    "m$_{\\odot}$ is a Sun’s magnitude\n",
    "$\\varphi$ is the satellite-sun-sensor solar phase angle (0º < STO < 90º)\n",
    "A is the cross-sectonal area\n",
    "$\\textcolor{blue}{\\rho}$ is the bond albedo\n",
    "R$\\textcolor{orange}{_{m}}$= is the range to target (400km < R$\\textcolor{orange}{_m}$ < 2500 km) \n",
    "\"\"\"\n",
    "\n",
    "mag_v_sun = -26.72              #Sun's V magnitude of Gaia   Jordi et al. 2010"
   ]
  },
  {
   "cell_type": "code",
   "execution_count": 20,
   "metadata": {},
   "outputs": [],
   "source": [
    "def model_magnitud(mag_sun, phase_angle, cross_section, albedo, range_sat, mix_coe):\n",
    "\tcoe_1 = 2/(3*np.pi)\n",
    "\tcoe_2 = 1/(4*np.pi)\n",
    "\tpart1 = (coe_1 *((np.pi - phase_angle)*np.cos(phase_angle) - np.sin(phase_angle))) - coe_2\n",
    "\tmag = mag_sun - 2.5 * np.log10( cross_section * albedo * (mix_coe * part1) + coe_2) + 5*np.log10(range_sat)\n",
    "\t\n",
    "\tdata = {'mag' : mag,\n",
    "\t\t\t'mag_sun' : mag_sun,\n",
    "\t\t\t'phase_angle' : phase_angle,\n",
    "\t\t\t'cross_sectio' : cross_section,\n",
    "\t\t\t'albedo' : albedo,\n",
    "\t\t\t'range_sat' : range_sat,\n",
    "\t\t\t'mix_coe' : mix_coe\n",
    "\t}\n",
    "\t\n",
    "\treturn data"
   ]
  },
  {
   "cell_type": "code",
   "execution_count": 17,
   "metadata": {},
   "outputs": [
    {
     "data": {
      "text/plain": [
       "(-30.574194258822153, 3.1, 1.1)"
      ]
     },
     "execution_count": 17,
     "metadata": {},
     "output_type": "execute_result"
    }
   ],
   "source": [
    "model_magnitud()"
   ]
  },
  {
   "cell_type": "code",
   "execution_count": 136,
   "metadata": {},
   "outputs": [
    {
     "data": {
      "text/plain": [
       "-21.628069228198385"
      ]
     },
     "execution_count": 136,
     "metadata": {},
     "output_type": "execute_result"
    }
   ],
   "source": [
    "#print(model_magnitud(69, 749, 3.6, 0.59))\n",
    "# STO = 73\n",
    "# Rm = 581\n",
    "STO = 45\n",
    "Rm = 749\n",
    "p = 3\n",
    "zeta = 0.7\n",
    "\n",
    "value_angle = abs((np.pi-STO)*np.cos(STO) + np.sin(STO))**p\n",
    "\n",
    "mag = -26.47 - 2.5 * np.log((2*zeta*value_angle)/(3*np.pi**(p+1))) + 5*np.log10(Rm)\n",
    "mag"
   ]
  },
  {
   "cell_type": "code",
   "execution_count": 134,
   "metadata": {},
   "outputs": [
    {
     "data": {
      "text/plain": [
       "0.010295961098569555"
      ]
     },
     "execution_count": 134,
     "metadata": {},
     "output_type": "execute_result"
    }
   ],
   "source": [
    "N = 3.1\n",
    "STO = 69.*np.pi / 180.\n",
    "abs((np.pi-STO)*np.cos(STO) - np.sin(STO))**(3.2)"
   ]
  },
  {
   "cell_type": "code",
   "execution_count": 109,
   "metadata": {},
   "outputs": [
    {
     "name": "stderr",
     "output_type": "stream",
     "text": [
      "/tmp/ipykernel_7934/389969791.py:1: RuntimeWarning: invalid value encountered in log10\n",
      "  np.log10((np.pi-STO)*np.cos(STO) - np.sin(STO))\n"
     ]
    },
    {
     "data": {
      "text/plain": [
       "nan"
      ]
     },
     "execution_count": 109,
     "metadata": {},
     "output_type": "execute_result"
    }
   ],
   "source": [
    "np.log((np.pi-STO)*np.cos(STO) - np.sin(STO))"
   ]
  },
  {
   "cell_type": "code",
   "execution_count": 106,
   "metadata": {},
   "outputs": [
    {
     "data": {
      "text/plain": [
       "0.7871718811282754"
      ]
     },
     "execution_count": 106,
     "metadata": {},
     "output_type": "execute_result"
    }
   ],
   "source": [
    "np.exp((np.pi-STO)*np.cos(STO) - np.sin(STO))"
   ]
  },
  {
   "cell_type": "code",
   "execution_count": null,
   "metadata": {},
   "outputs": [],
   "source": [
    "math()"
   ]
  }
 ],
 "metadata": {
  "kernelspec": {
   "display_name": "Python 3.10.4 64-bit",
   "language": "python",
   "name": "python3"
  },
  "language_info": {
   "codemirror_mode": {
    "name": "ipython",
    "version": 3
   },
   "file_extension": ".py",
   "mimetype": "text/x-python",
   "name": "python",
   "nbconvert_exporter": "python",
   "pygments_lexer": "ipython3",
   "version": "3.10.4"
  },
  "orig_nbformat": 4,
  "vscode": {
   "interpreter": {
    "hash": "916dbcbb3f70747c44a77c7bcd40155683ae19c65e1c03b4aa3499c5328201f1"
   }
  }
 },
 "nbformat": 4,
 "nbformat_minor": 2
}
