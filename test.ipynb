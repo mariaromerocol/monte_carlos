{
 "cells": [
  {
   "cell_type": "code",
   "execution_count": 11,
   "metadata": {},
   "outputs": [],
   "source": [
    "import math\n",
    "import numpy as np\n",
    "import pandas as pd\n",
    "import seaborn as sns\n",
    "from time import time\n",
    "from scipy import stats\n",
    "import matplotlib.pyplot as plt\n",
    "\n",
    "\n",
    "mag_v_sun = -26.72              #Sun's V magnitude of Gaia   Jordi et al. 2010"
   ]
  },
  {
   "cell_type": "markdown",
   "metadata": {},
   "source": [
    "## Definition functions"
   ]
  },
  {
   "cell_type": "markdown",
   "metadata": {},
   "source": [
    "### Model Magnitud"
   ]
  },
  {
   "cell_type": "code",
   "execution_count": null,
   "metadata": {},
   "outputs": [],
   "source": [
    "def model_magnitud(theta, data):\n",
    "    mag_v_sun = -26.72\n",
    "\n",
    "    phase_angle = data['solar_phase_angle']\n",
    "    range_sat = data['range_sat']\n",
    "    cross_section = theta['cross_section']\n",
    "    albedo = theta['albedo'] \n",
    "    mix_coef = theta['mix_coef']\n",
    "\n",
    "   # Change degrees to radian\n",
    "    degtorad = lambda x : x*np.pi/180.\n",
    "\n",
    "   # Definition coefficients of equation\n",
    "    coe_1 = 2/(3*np.pi)\n",
    "    coe_2 = 1/(4*np.pi)\n",
    "\n",
    "    phase_angle_rad = degtorad(phase_angle)\t\n",
    "\n",
    "   \n",
    "    part1 = (coe_1 *((np.pi - phase_angle_rad)*np.cos(phase_angle_rad) - np.sin(phase_angle_rad))) - coe_2\n",
    "   \n",
    "    model_value = mag_v_sun - 2.5 * np.log10(cross_section * albedo * (mix_coef * part1) + coe_2) + 5*np.log10(range_sat)\n",
    "    \n",
    "    frame = {'model_value': model_value}\n",
    "    model_value_est = pd.DataFrame(frame)\n",
    "\n",
    "\n",
    "    return model_value_est"
   ]
  },
  {
   "cell_type": "markdown",
   "metadata": {},
   "source": [
    "### Sum Square"
   ]
  },
  {
   "cell_type": "code",
   "execution_count": null,
   "metadata": {},
   "outputs": [],
   "source": [
    "def sum_squares(theta, data):\n",
    "\n",
    "    model_value = model_magnitud(theta, data).model_value\n",
    "    rest = (data['mag_observation'] + data['e_mag']) + model_value\n",
    "    residual = (rest ** 2).sum(axis=0)/(rest.shape[0] - theta.shape[1])\n",
    "    estimator = [residual, rest]\n",
    "    \n",
    "    return estimator"
   ]
  },
  {
   "cell_type": "markdown",
   "metadata": {},
   "source": [
    "### Markov Chains"
   ]
  },
  {
   "cell_type": "code",
   "execution_count": null,
   "metadata": {},
   "outputs": [],
   "source": [
    "def markov_chains(init_point, std_point, size_chain):\n",
    "    chain = np.random.normal(init_point, std_point, size_chain).round(3)\n",
    "    \n",
    "    return chain"
   ]
  },
  {
   "cell_type": "markdown",
   "metadata": {},
   "source": [
    "### Beta distribution"
   ]
  },
  {
   "cell_type": "code",
   "execution_count": null,
   "metadata": {},
   "outputs": [],
   "source": [
    "def beta(x):\n",
    "    sample_beta = stats.beta(1,1)\n",
    "    r = sample_beta.rvs(x)\n",
    "    return r"
   ]
  },
  {
   "cell_type": "markdown",
   "metadata": {},
   "source": [
    "### Read Data"
   ]
  },
  {
   "cell_type": "markdown",
   "metadata": {},
   "source": [
    "#### PC"
   ]
  },
  {
   "cell_type": "code",
   "execution_count": null,
   "metadata": {},
   "outputs": [],
   "source": [
    "path = '/home/kero/Documents/PhD/Re-analyse/result_analyse.csv'\n",
    "\n",
    "data_sat = pd.read_csv(path)\n",
    "\n",
    "data_in = pd.DataFrame()\n",
    "data_in['solar_phase_angle'] = data_sat['obs_phase_angle']\n",
    "data_in['range_sat'] = data_sat['range_sat']\n",
    "data_in['mag_observation'] = data_sat['mag_observation']\n",
    "data_in['e_mag'] = data_sat['mag_observation_e']\n",
    "n = data_in.shape[0]"
   ]
  },
  {
   "cell_type": "markdown",
   "metadata": {},
   "source": [
    "#### Laptop"
   ]
  },
  {
   "cell_type": "code",
   "execution_count": null,
   "metadata": {},
   "outputs": [],
   "source": [
    "path = '/home/kero/Documents/PhD/re-analyse/test.csv'\n",
    "\n",
    "data_sat = pd.read_csv(path)\n",
    "data_in = pd.DataFrame()\n",
    "data_in['solar_phase_angle'] = data_sat['SunPhaseAng']\n",
    "data_in['range_sat'] = data_sat['ObsTrailLength']\n",
    "data_in['mag_observation'] = data_sat['ObsMag']\n",
    "data_in['e_mag'] = data_sat['e_ObsMag']"
   ]
  },
  {
   "cell_type": "markdown",
   "metadata": {},
   "source": [
    "### Markov chain Monte Carlo"
   ]
  },
  {
   "cell_type": "code",
   "execution_count": null,
   "metadata": {},
   "outputs": [],
   "source": [
    "p_value = 0.83\n",
    "num_simulations = 2000\n",
    "\n",
    "good_p_value = []\n",
    "mixing_coeffient_est = []\n",
    "albedo_est = []\n",
    "cross_section_est = []\n",
    "\n",
    "mix_init_point = 0.75\n",
    "mix_std_point = 0.12\n",
    "cross_init_point = 0.8\n",
    "cross_std_point = 0.35\n",
    "albedo_init_point = 0.55\n",
    "albedo_std_point = 0.2\n",
    "\n",
    "size_chain_in = data_in.shape[0]\n",
    "\n",
    "for i in range(num_simulations):\n",
    "    mix_coef_markov = markov_chains(mix_init_point, mix_std_point, size_chain_in)\n",
    "    albedo_markov = markov_chains(albedo_init_point, albedo_std_point, size_chain_in)\n",
    "    cross_section_markov = markov_chains(cross_init_point, cross_std_point, size_chain_in)\n",
    "\n",
    "    mix_coef = np.random.choice(mix_coef_markov)\n",
    "    albedo = np.random.choice(albedo_markov)\n",
    "    cross_section = np.random.choice(cross_section_markov)\n",
    "\n",
    "    \n",
    "\n",
    "    parameters = pd.DataFrame(data={'mix_coef': mix_coef,\n",
    "                            'albedo': albedo,\n",
    "                            'cross_section' : cross_section},\n",
    "                            index=range(data_in.shape[0]))\n",
    "\n",
    "    model_value = model_magnitud(parameters, data_in)\n",
    "\n",
    "    estimador = sum_squares(parameters, data_in)\n",
    "\n",
    "\n",
    "\n"
   ]
  }
 ],
 "metadata": {
  "kernelspec": {
   "display_name": "Python 3.10.4 64-bit",
   "language": "python",
   "name": "python3"
  },
  "language_info": {
   "codemirror_mode": {
    "name": "ipython",
    "version": 3
   },
   "file_extension": ".py",
   "mimetype": "text/x-python",
   "name": "python",
   "nbconvert_exporter": "python",
   "pygments_lexer": "ipython3",
   "version": "3.10.4"
  },
  "orig_nbformat": 4,
  "vscode": {
   "interpreter": {
    "hash": "916dbcbb3f70747c44a77c7bcd40155683ae19c65e1c03b4aa3499c5328201f1"
   }
  }
 },
 "nbformat": 4,
 "nbformat_minor": 2
}
